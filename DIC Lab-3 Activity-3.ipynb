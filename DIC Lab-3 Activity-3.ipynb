{
 "cells": [
  {
   "cell_type": "code",
   "execution_count": 3,
   "metadata": {
    "collapsed": false
   },
   "outputs": [
    {
     "name": "stderr",
     "output_type": "stream",
     "text": [
      "Installing package into 'C:/Users/User/Documents/R/win-library/3.3'\n",
      "(as 'lib' is unspecified)\n"
     ]
    },
    {
     "name": "stdout",
     "output_type": "stream",
     "text": [
      "package 'class' successfully unpacked and MD5 sums checked\n"
     ]
    },
    {
     "name": "stderr",
     "output_type": "stream",
     "text": [
      "Warning message:\n",
      "\"cannot remove prior installation of package 'class'\""
     ]
    },
    {
     "name": "stdout",
     "output_type": "stream",
     "text": [
      "\n",
      "The downloaded binary packages are in\n",
      "\tC:\\Users\\User\\AppData\\Local\\Temp\\RtmpmS6w4J\\downloaded_packages\n"
     ]
    }
   ],
   "source": [
    "install.packages('class', repos='https://cran.r-project.org/')\n",
    "library('class')"
   ]
  },
  {
   "cell_type": "markdown",
   "metadata": {},
   "source": [
    "Add class to the library"
   ]
  },
  {
   "cell_type": "code",
   "execution_count": 5,
   "metadata": {
    "collapsed": false
   },
   "outputs": [
    {
     "data": {
      "text/html": [
       "<table>\n",
       "<thead><tr><th scope=col>sex</th><th scope=col>home4nw</th><th scope=col>smart1</th><th scope=col>age</th><th scope=col>marital</th></tr></thead>\n",
       "<tbody>\n",
       "\t<tr><td>2 </td><td> 1</td><td> 1</td><td>47</td><td>1 </td></tr>\n",
       "\t<tr><td>2 </td><td> 1</td><td> 1</td><td>63</td><td>1 </td></tr>\n",
       "\t<tr><td>2 </td><td>NA</td><td> 2</td><td>86</td><td>5 </td></tr>\n",
       "\t<tr><td>2 </td><td> 1</td><td> 1</td><td>40</td><td>1 </td></tr>\n",
       "\t<tr><td>2 </td><td> 1</td><td>NA</td><td>65</td><td>9 </td></tr>\n",
       "\t<tr><td>2 </td><td> 1</td><td> 1</td><td>69</td><td>1 </td></tr>\n",
       "</tbody>\n",
       "</table>\n"
      ],
      "text/latex": [
       "\\begin{tabular}{r|lllll}\n",
       " sex & home4nw & smart1 & age & marital\\\\\n",
       "\\hline\n",
       "\t 2  &  1 &  1 & 47 & 1 \\\\\n",
       "\t 2  &  1 &  1 & 63 & 1 \\\\\n",
       "\t 2  & NA &  2 & 86 & 5 \\\\\n",
       "\t 2  &  1 &  1 & 40 & 1 \\\\\n",
       "\t 2  &  1 & NA & 65 & 9 \\\\\n",
       "\t 2  &  1 &  1 & 69 & 1 \\\\\n",
       "\\end{tabular}\n"
      ],
      "text/markdown": [
       "\n",
       "sex | home4nw | smart1 | age | marital | \n",
       "|---|---|---|---|---|---|\n",
       "| 2  |  1 |  1 | 47 | 1  | \n",
       "| 2  |  1 |  1 | 63 | 1  | \n",
       "| 2  | NA |  2 | 86 | 5  | \n",
       "| 2  |  1 |  1 | 40 | 1  | \n",
       "| 2  |  1 | NA | 65 | 9  | \n",
       "| 2  |  1 |  1 | 69 | 1  | \n",
       "\n",
       "\n"
      ],
      "text/plain": [
       "  sex home4nw smart1 age marital\n",
       "1 2    1       1     47  1      \n",
       "2 2    1       1     63  1      \n",
       "3 2   NA       2     86  5      \n",
       "4 2    1       1     40  1      \n",
       "5 2    1      NA     65  9      \n",
       "6 2    1       1     69  1      "
      ]
     },
     "metadata": {},
     "output_type": "display_data"
    }
   ],
   "source": [
    "kmeansDataFrame <- read.csv(\"Gaming_Jobs_Broadband.csv\")\n",
    "kmeansDataFrame <- kmeansDataFrame[,c(\"sex\",\"home4nw\",\"smart1\",\"age\",\"marital\")]\n",
    "head(kmeansDataFrame)"
   ]
  },
  {
   "cell_type": "markdown",
   "metadata": {},
   "source": [
    "Get the required columns from the main data set"
   ]
  },
  {
   "cell_type": "code",
   "execution_count": 6,
   "metadata": {
    "collapsed": true
   },
   "outputs": [],
   "source": [
    "normalize <- function(x){ \n",
    "    (x-min(x))/(max(x)-min(x))\n",
    "}"
   ]
  },
  {
   "cell_type": "code",
   "execution_count": 29,
   "metadata": {
    "collapsed": false
   },
   "outputs": [
    {
     "data": {
      "text/html": [
       "<table>\n",
       "<thead><tr><th scope=col>sex</th><th scope=col>home4nw</th><th scope=col>smart1</th><th scope=col>age</th><th scope=col>marital</th></tr></thead>\n",
       "<tbody>\n",
       "\t<tr><td>1        </td><td>0.125    </td><td>0.1111111</td><td>0.3580247</td><td>0.0      </td></tr>\n",
       "\t<tr><td>1        </td><td>0.125    </td><td>0.1111111</td><td>0.5555556</td><td>0.0      </td></tr>\n",
       "\t<tr><td>1        </td><td>0.000    </td><td>0.2222222</td><td>0.8395062</td><td>0.5      </td></tr>\n",
       "\t<tr><td>1        </td><td>0.125    </td><td>0.1111111</td><td>0.2716049</td><td>0.0      </td></tr>\n",
       "\t<tr><td>1        </td><td>0.125    </td><td>0.0000000</td><td>0.5802469</td><td>1.0      </td></tr>\n",
       "\t<tr><td>1        </td><td>0.125    </td><td>0.1111111</td><td>0.6296296</td><td>0.0      </td></tr>\n",
       "</tbody>\n",
       "</table>\n"
      ],
      "text/latex": [
       "\\begin{tabular}{r|lllll}\n",
       " sex & home4nw & smart1 & age & marital\\\\\n",
       "\\hline\n",
       "\t 1         & 0.125     & 0.1111111 & 0.3580247 & 0.0      \\\\\n",
       "\t 1         & 0.125     & 0.1111111 & 0.5555556 & 0.0      \\\\\n",
       "\t 1         & 0.000     & 0.2222222 & 0.8395062 & 0.5      \\\\\n",
       "\t 1         & 0.125     & 0.1111111 & 0.2716049 & 0.0      \\\\\n",
       "\t 1         & 0.125     & 0.0000000 & 0.5802469 & 1.0      \\\\\n",
       "\t 1         & 0.125     & 0.1111111 & 0.6296296 & 0.0      \\\\\n",
       "\\end{tabular}\n"
      ],
      "text/markdown": [
       "\n",
       "sex | home4nw | smart1 | age | marital | \n",
       "|---|---|---|---|---|---|\n",
       "| 1         | 0.125     | 0.1111111 | 0.3580247 | 0.0       | \n",
       "| 1         | 0.125     | 0.1111111 | 0.5555556 | 0.0       | \n",
       "| 1         | 0.000     | 0.2222222 | 0.8395062 | 0.5       | \n",
       "| 1         | 0.125     | 0.1111111 | 0.2716049 | 0.0       | \n",
       "| 1         | 0.125     | 0.0000000 | 0.5802469 | 1.0       | \n",
       "| 1         | 0.125     | 0.1111111 | 0.6296296 | 0.0       | \n",
       "\n",
       "\n"
      ],
      "text/plain": [
       "  sex home4nw smart1    age       marital\n",
       "1 1   0.125   0.1111111 0.3580247 0.0    \n",
       "2 1   0.125   0.1111111 0.5555556 0.0    \n",
       "3 1   0.000   0.2222222 0.8395062 0.5    \n",
       "4 1   0.125   0.1111111 0.2716049 0.0    \n",
       "5 1   0.125   0.0000000 0.5802469 1.0    \n",
       "6 1   0.125   0.1111111 0.6296296 0.0    "
      ]
     },
     "metadata": {},
     "output_type": "display_data"
    }
   ],
   "source": [
    "kmeansDataFrame <- as.data.frame(sapply(kmeansDataFrame, as.numeric),stringsAsFactors=FALSE)\n",
    "kmeansDataFrame[is.na(kmeansDataFrame)] <- 0\n",
    "kmeansDataFrame <- as.data.frame(lapply(kmeansDataFrame,normalize))\n",
    "head(kmeansDataFrame)"
   ]
  },
  {
   "cell_type": "markdown",
   "metadata": {},
   "source": [
    "Clean and normalize the data fetched"
   ]
  },
  {
   "cell_type": "code",
   "execution_count": 30,
   "metadata": {
    "collapsed": false
   },
   "outputs": [
    {
     "data": {
      "text/plain": [
       "K-means clustering with 3 clusters of sizes 313, 676, 1012\n",
       "\n",
       "Cluster means:\n",
       "  sex   home4nw    smart1       age    marital\n",
       "1   0 0.1289936 0.2012780 0.2846606 0.60423323\n",
       "2   0 0.1244453 0.1633794 0.4511834 0.04142012\n",
       "3   1 0.1219121 0.1787440 0.4431757 0.22751976\n",
       "\n",
       "Clustering vector:\n",
       "   [1] 3 3 3 3 3 3 2 2 1 2 3 3 2 3 3 3 2 2 3 2 3 2 3 2 2 3 3 3 3 3 3 3 1 1 3 3 3\n",
       "  [38] 2 3 2 3 3 3 3 2 1 2 3 2 3 3 1 3 3 3 3 2 3 3 3 3 3 2 2 2 3 3 2 3 3 3 3 2 2\n",
       "  [75] 2 3 2 3 3 3 3 2 3 3 2 3 1 2 2 2 3 2 3 3 3 2 2 3 3 2 3 3 3 2 3 1 3 2 2 3 3\n",
       " [112] 3 3 3 3 1 1 3 2 3 2 1 3 3 3 2 3 3 2 2 3 1 2 3 1 1 3 3 3 3 3 3 2 3 2 3 3 3\n",
       " [149] 2 1 3 1 3 3 2 2 3 3 2 3 2 2 3 3 3 3 3 3 3 3 3 3 2 3 2 3 2 3 2 2 3 3 3 3 2\n",
       " [186] 1 2 3 3 2 3 2 3 2 2 3 1 3 2 3 3 2 3 2 3 3 3 2 3 3 2 3 1 3 3 1 3 2 2 3 2 3\n",
       " [223] 1 3 2 2 2 2 3 3 2 3 1 1 3 3 3 2 3 2 3 3 3 2 2 3 3 3 3 2 3 2 3 2 3 2 2 2 2\n",
       " [260] 3 2 2 2 3 2 3 3 3 3 3 2 3 2 3 2 2 2 1 3 2 2 2 3 3 3 3 3 3 3 3 2 3 2 1 3 3\n",
       " [297] 3 2 2 3 3 3 2 1 2 3 3 3 3 3 1 3 3 3 2 2 3 3 3 2 2 2 2 2 1 3 2 2 3 3 2 3 3\n",
       " [334] 2 2 3 2 1 3 3 2 3 2 3 3 3 3 3 3 3 2 2 2 3 1 2 3 3 3 1 2 3 2 3 2 2 3 3 1 3\n",
       " [371] 2 3 2 3 3 3 3 2 3 3 3 3 3 3 3 3 3 2 3 2 3 1 3 3 3 3 3 3 1 3 2 2 3 3 2 3 3\n",
       " [408] 2 2 1 3 2 2 1 3 3 3 2 3 3 1 2 3 2 2 3 3 1 3 3 2 3 2 3 3 1 3 3 3 3 2 2 3 3\n",
       " [445] 3 2 3 3 1 2 2 3 3 2 1 3 3 2 2 1 3 3 2 3 3 3 2 3 3 3 3 3 2 3 3 3 2 3 3 3 3\n",
       " [482] 3 3 2 3 1 3 2 3 3 1 3 3 1 3 2 3 3 3 1 3 3 2 3 3 2 1 3 3 3 3 3 3 3 3 3 2 3\n",
       " [519] 3 3 1 2 3 3 1 3 3 3 3 2 3 2 3 2 3 3 3 2 3 2 3 3 2 3 3 3 2 3 3 2 1 2 2 3 3\n",
       " [556] 3 3 1 3 3 3 3 3 2 3 3 2 2 2 2 2 2 2 3 3 2 3 3 1 3 3 1 2 3 2 3 3 2 2 3 3 3\n",
       " [593] 3 3 3 3 3 2 2 2 3 2 3 3 3 3 3 3 2 1 2 3 3 2 3 3 1 1 1 1 3 2 3 2 3 3 3 2 3\n",
       " [630] 2 3 3 3 3 3 3 3 3 3 2 3 3 3 2 2 3 3 3 3 1 3 1 3 3 1 3 3 3 3 3 3 3 3 3 2 1\n",
       " [667] 2 3 2 3 2 3 2 3 3 3 3 2 2 2 2 2 3 1 1 3 3 3 1 1 2 3 3 3 2 3 1 3 3 2 3 2 1\n",
       " [704] 2 2 3 3 3 1 3 2 3 2 3 2 2 2 2 3 2 1 1 2 2 2 2 1 2 2 3 2 1 1 1 2 3 2 2 2 3\n",
       " [741] 3 3 3 1 2 2 1 1 3 3 1 2 2 2 3 2 3 1 3 3 3 1 3 3 3 3 3 3 1 2 1 3 1 3 3 1 1\n",
       " [778] 2 2 3 3 3 2 1 3 2 1 1 3 1 2 1 2 1 2 2 3 1 2 3 2 2 3 2 3 3 3 2 2 2 1 3 2 1\n",
       " [815] 2 3 3 3 2 3 2 2 3 3 2 3 2 3 2 1 2 3 3 2 3 3 2 2 3 3 3 1 2 1 2 2 3 2 3 2 2\n",
       " [852] 3 1 3 2 2 3 1 2 2 2 1 3 3 3 1 3 1 2 1 3 2 2 2 3 2 2 2 3 3 3 3 2 3 2 1 2 3\n",
       " [889] 2 2 3 3 3 2 2 3 3 2 2 2 3 2 1 1 2 3 3 2 3 1 2 3 2 2 2 2 3 3 3 3 3 2 3 3 3\n",
       " [926] 3 1 2 1 1 3 1 1 3 2 2 3 2 3 3 1 1 3 1 3 2 1 1 3 2 3 3 3 3 1 2 2 2 2 3 3 1\n",
       " [963] 3 3 2 3 2 2 2 3 3 3 3 1 2 2 1 3 2 3 3 2 2 2 1 3 1 2 2 1 3 3 2 1 1 3 3 3 2\n",
       "[1000] 2 3 2 3 3 2 1 3 3 3 2 1 3 2 1 3 2 3 2 2 2 2 2 2 3 3 3 3 2 2 1 3 3 2 3 3 1\n",
       "[1037] 1 3 2 3 3 2 3 3 3 2 1 1 3 2 2 2 1 1 3 2 3 3 3 3 2 3 3 1 2 1 2 1 2 1 3 2 3\n",
       "[1074] 3 3 1 1 2 3 2 3 3 2 3 3 2 1 3 2 1 3 3 2 2 3 3 3 2 3 2 2 2 2 1 1 3 2 1 3 2\n",
       "[1111] 1 2 2 3 1 2 3 2 3 3 2 3 3 3 1 2 1 3 1 3 2 2 3 2 3 3 2 2 3 3 3 3 3 3 3 3 3\n",
       "[1148] 2 3 1 2 2 3 3 3 2 2 2 3 2 2 1 1 3 3 2 3 3 2 3 1 1 3 2 1 2 1 2 2 3 3 2 3 1\n",
       "[1185] 2 2 2 3 2 2 3 3 3 3 2 3 2 1 2 2 1 2 2 3 3 3 3 3 3 3 2 3 3 3 2 3 1 2 2 2 1\n",
       "[1222] 2 2 1 3 1 3 3 2 3 1 2 3 1 2 2 2 3 3 3 1 2 3 1 2 3 2 2 2 1 1 2 3 2 3 3 2 3\n",
       "[1259] 3 3 3 2 3 2 2 2 1 1 3 2 3 1 2 3 3 1 2 1 1 2 3 3 1 3 2 1 3 3 1 2 2 2 2 3 2\n",
       "[1296] 1 3 2 2 2 1 2 2 3 1 2 3 1 3 3 1 2 3 3 3 3 3 3 3 2 1 2 3 2 3 2 3 2 2 3 3 3\n",
       "[1333] 3 3 3 3 3 2 3 3 3 2 3 2 1 1 3 2 3 1 3 2 3 2 2 3 3 2 3 2 3 1 3 3 3 1 1 1 3\n",
       "[1370] 3 1 1 1 2 2 2 3 3 2 2 1 2 2 2 3 3 2 2 3 3 1 2 3 1 1 2 2 3 2 2 1 3 3 2 1 3\n",
       "[1407] 2 2 3 3 3 1 3 3 2 1 1 1 3 1 2 2 3 1 3 1 1 3 2 3 1 1 3 2 3 2 3 2 2 3 3 3 1\n",
       "[1444] 2 3 3 2 3 3 3 3 2 3 3 3 1 3 3 2 3 2 2 3 1 2 3 3 3 3 3 3 3 2 3 3 2 2 3 3 3\n",
       "[1481] 1 1 3 2 1 3 3 3 2 3 2 1 2 2 3 3 3 3 2 2 1 3 3 3 3 3 3 1 2 2 2 3 2 3 1 3 3\n",
       "[1518] 1 3 1 2 1 3 2 1 2 2 2 2 3 2 2 1 3 2 1 3 1 3 3 3 2 3 2 2 3 2 2 2 2 2 3 2 2\n",
       "[1555] 3 2 3 2 2 2 2 3 3 3 3 3 1 2 2 2 3 3 2 2 3 1 3 3 2 3 2 3 3 3 3 3 2 1 1 1 3\n",
       "[1592] 2 3 2 2 3 3 2 3 3 2 3 2 2 3 3 3 3 3 2 3 3 2 3 1 3 3 1 2 2 2 3 2 2 3 1 3 1\n",
       "[1629] 3 3 3 1 2 1 1 3 2 1 3 3 2 3 2 1 2 3 3 2 3 3 3 2 3 2 2 3 3 2 2 2 2 3 3 2 2\n",
       "[1666] 3 3 3 2 2 1 3 3 2 1 2 2 3 1 2 2 3 3 2 3 1 3 3 2 2 2 2 1 2 3 2 2 3 2 1 2 1\n",
       "[1703] 2 2 3 2 1 3 3 3 2 2 2 1 3 3 2 1 2 3 3 3 3 1 3 3 1 2 1 3 3 1 1 2 3 3 3 2 3\n",
       "[1740] 1 3 2 1 3 3 3 2 2 1 2 3 1 2 2 3 3 3 3 2 3 2 2 1 1 2 2 3 3 3 3 3 2 2 2 3 2\n",
       "[1777] 3 2 3 3 3 2 3 3 2 2 3 1 3 3 3 3 1 3 1 1 3 1 1 3 3 2 2 2 3 2 2 3 1 3 1 3 3\n",
       "[1814] 2 1 3 2 2 1 2 3 2 2 1 2 2 3 3 3 2 3 1 2 3 2 3 2 3 1 3 1 2 3 3 3 1 3 3 2 3\n",
       "[1851] 3 3 2 3 1 1 3 3 3 3 1 3 2 2 1 1 3 1 1 1 3 2 2 1 2 3 3 2 2 3 1 2 3 2 2 2 3\n",
       "[1888] 2 3 2 3 3 3 3 3 3 1 3 3 1 3 3 3 2 3 3 3 2 3 1 2 3 3 1 1 1 2 3 2 2 1 3 1 3\n",
       "[1925] 1 2 3 3 3 3 3 2 1 3 3 2 1 2 2 3 1 3 3 2 3 3 3 2 3 3 1 3 3 3 1 2 1 3 3 1 2\n",
       "[1962] 3 3 1 3 2 1 3 3 3 1 3 3 1 2 3 3 3 1 2 3 2 3 1 3 3 2 2 3 2 2 2 3 2 3 1 3 3\n",
       "[1999] 3 3 3\n",
       "\n",
       "Within cluster sum of squares by cluster:\n",
       "[1]  45.61413  52.06617 170.64982\n",
       " (between_SS / total_SS =  68.2 %)\n",
       "\n",
       "Available components:\n",
       "\n",
       "[1] \"cluster\"      \"centers\"      \"totss\"        \"withinss\"     \"tot.withinss\"\n",
       "[6] \"betweenss\"    \"size\"         \"iter\"         \"ifault\"      "
      ]
     },
     "metadata": {},
     "output_type": "display_data"
    }
   ],
   "source": [
    "kmeans(kmeansDataFrame,centers=3)"
   ]
  },
  {
   "cell_type": "markdown",
   "metadata": {},
   "source": [
    "K-means has been plotted for 5 fields: Sex, Internet, Phone, Age and Marital and for value of k as 3. "
   ]
  },
  {
   "cell_type": "code",
   "execution_count": 31,
   "metadata": {
    "collapsed": false
   },
   "outputs": [
    {
     "data": {
      "text/plain": [
       "K-means clustering with 5 clusters of sizes 637, 313, 313, 676, 62\n",
       "\n",
       "Cluster means:\n",
       "  sex    home4nw    smart1       age    marital\n",
       "1   1 0.12480377 0.1336124 0.4483013 0.05003925\n",
       "2   1 0.12220447 0.1299255 0.4164004 0.57627796\n",
       "3   0 0.12899361 0.2012780 0.2846606 0.60423323\n",
       "4   0 0.12444527 0.1633794 0.4511834 0.04142012\n",
       "5   1 0.09072581 0.8888889 0.5256870 0.29032258\n",
       "\n",
       "Clustering vector:\n",
       "   [1] 1 1 2 1 2 1 4 4 3 4 2 1 4 1 1 1 4 4 1 4 2 4 2 4 4 1 1 2 2 1 1 2 3 3 1 2 2\n",
       "  [38] 4 2 4 1 5 1 2 4 3 4 2 4 1 1 3 1 1 2 1 4 2 1 1 1 2 4 4 4 1 2 4 2 1 1 1 4 4\n",
       "  [75] 4 2 4 2 2 2 2 4 1 1 4 5 3 4 4 4 1 4 2 1 2 4 4 2 1 4 1 5 1 4 2 3 1 4 4 2 1\n",
       " [112] 2 2 1 2 3 3 1 4 1 4 3 2 1 1 4 1 1 4 4 2 3 4 2 3 3 5 1 2 1 1 1 4 5 4 5 2 1\n",
       " [149] 4 3 2 3 1 5 4 4 1 1 4 1 4 4 1 1 2 1 2 1 2 1 1 1 4 5 4 2 4 1 4 4 2 2 1 1 4\n",
       " [186] 3 4 1 1 4 2 4 2 4 4 1 3 1 4 1 5 4 1 4 5 1 1 4 1 1 4 2 3 1 1 3 2 4 4 1 4 2\n",
       " [223] 3 1 4 4 4 4 2 2 4 1 3 3 1 1 2 4 2 4 2 1 1 4 4 1 2 5 1 4 2 4 1 4 1 4 4 4 4\n",
       " [260] 1 4 4 4 1 4 1 1 2 2 2 4 1 4 1 4 4 4 3 1 4 4 4 2 1 1 5 1 2 1 5 4 1 4 3 1 1\n",
       " [297] 2 4 4 1 1 1 4 3 4 5 2 2 5 1 3 1 2 1 4 4 1 5 1 4 4 4 4 4 3 1 4 4 2 5 4 2 2\n",
       " [334] 4 4 2 4 3 1 2 4 2 4 2 1 2 2 2 1 1 4 4 4 1 3 4 1 1 2 3 4 1 4 1 4 4 1 2 3 2\n",
       " [371] 4 1 4 1 1 2 1 4 2 1 1 2 1 2 1 5 2 4 1 4 1 3 1 1 1 2 1 1 3 1 4 4 1 1 4 1 2\n",
       " [408] 4 4 3 2 4 4 3 1 1 1 4 2 2 3 4 1 4 4 1 1 3 2 1 4 2 4 1 2 3 2 2 1 1 4 4 1 2\n",
       " [445] 1 4 1 1 3 4 4 1 1 4 3 1 1 4 4 3 1 2 4 1 2 1 4 1 2 1 1 1 4 1 1 1 4 1 5 2 1\n",
       " [482] 1 1 4 2 3 1 4 2 2 3 1 2 3 1 4 1 1 2 3 2 2 4 1 1 4 3 1 1 1 1 1 1 2 1 5 4 2\n",
       " [519] 1 5 3 4 1 1 3 1 2 1 1 4 1 4 1 4 1 1 1 4 1 4 2 2 4 1 1 1 4 1 1 4 3 4 4 2 1\n",
       " [556] 2 1 3 1 1 1 2 1 4 2 1 4 4 4 4 4 4 4 2 1 4 2 1 3 1 1 3 4 2 4 1 2 4 4 2 2 1\n",
       " [593] 1 1 1 1 1 4 4 4 1 4 1 5 1 2 1 1 4 3 4 1 1 4 1 1 3 3 3 3 1 4 2 4 1 2 5 4 1\n",
       " [630] 4 1 2 1 1 1 1 1 1 1 4 1 2 1 4 4 2 2 1 1 3 1 3 2 2 3 2 1 1 1 1 2 1 1 1 4 3\n",
       " [667] 4 1 4 2 4 1 4 1 2 1 1 4 4 4 4 4 1 3 3 2 1 1 3 3 4 1 1 1 4 1 3 2 2 4 1 4 3\n",
       " [704] 4 4 2 2 1 3 1 4 1 4 1 4 4 4 4 2 4 3 3 4 4 4 4 3 4 4 2 4 3 3 3 4 2 4 4 4 1\n",
       " [741] 1 1 1 3 4 4 3 3 2 1 3 4 4 4 1 4 1 3 1 1 1 3 2 2 1 2 1 2 3 4 3 1 3 2 1 3 3\n",
       " [778] 4 4 1 2 1 4 3 5 4 3 3 2 3 4 3 4 3 4 4 2 3 4 1 4 4 2 4 1 2 1 4 4 4 3 2 4 3\n",
       " [815] 4 1 1 2 4 2 4 4 1 1 4 1 4 1 4 3 4 1 1 4 1 5 4 4 1 2 1 3 4 3 4 4 1 4 1 4 4\n",
       " [852] 1 3 2 4 4 2 3 4 4 4 3 2 1 2 3 1 3 4 3 2 4 4 4 2 4 4 4 1 1 2 2 4 5 4 3 4 2\n",
       " [889] 4 4 1 1 1 4 4 1 5 4 4 4 1 4 3 3 4 1 5 4 2 3 4 2 4 4 4 4 1 2 2 1 5 4 1 1 2\n",
       " [926] 1 3 4 3 3 2 3 3 2 4 4 5 4 1 1 3 3 1 3 1 4 3 3 5 4 2 1 1 1 3 4 4 4 4 1 1 3\n",
       " [963] 1 2 4 2 4 4 4 1 1 1 1 3 4 4 3 2 4 2 1 4 4 4 3 1 3 4 4 3 2 2 4 3 3 1 2 1 4\n",
       "[1000] 4 2 4 1 2 4 3 1 5 1 4 3 1 4 3 1 4 1 4 4 4 4 4 4 1 2 2 1 4 4 3 2 5 4 1 1 3\n",
       "[1037] 3 1 4 1 2 4 1 1 2 4 3 3 5 4 4 4 3 3 1 4 2 2 1 2 4 1 1 3 4 3 4 3 4 3 1 4 1\n",
       "[1074] 2 1 3 3 4 2 4 1 2 4 2 1 4 3 2 4 3 5 1 4 4 2 1 1 4 1 4 4 4 4 3 3 2 4 3 2 4\n",
       "[1111] 3 4 4 5 3 4 1 4 1 1 4 1 1 5 3 4 3 1 3 2 4 4 1 4 1 1 4 4 2 1 2 2 1 2 2 1 1\n",
       "[1148] 4 2 3 4 4 5 1 5 4 4 4 1 4 4 3 3 1 1 4 1 1 4 1 3 3 2 4 3 4 3 4 4 1 2 4 1 3\n",
       "[1185] 4 4 4 1 4 4 1 1 1 2 4 1 4 3 4 4 3 4 4 2 2 5 5 1 1 1 4 1 1 1 4 1 3 4 4 4 3\n",
       "[1222] 4 4 3 1 3 1 2 4 1 3 4 2 3 4 4 4 2 1 1 3 4 1 3 4 1 4 4 4 3 3 4 2 4 1 2 4 1\n",
       "[1259] 2 1 1 4 1 4 4 4 3 3 1 4 1 3 4 2 2 3 4 3 3 4 2 1 3 1 4 3 1 2 3 4 4 4 4 1 4\n",
       "[1296] 3 2 4 4 4 3 4 4 1 3 4 1 3 1 2 3 4 2 1 2 2 1 1 5 4 3 4 2 4 2 4 2 4 4 1 2 1\n",
       "[1333] 2 2 1 1 1 4 1 2 2 4 1 4 3 3 1 4 1 3 1 4 1 4 4 2 1 4 5 4 1 3 5 1 1 3 3 3 1\n",
       "[1370] 2 3 3 3 4 4 4 1 2 4 4 3 4 4 4 1 1 4 4 1 5 3 4 1 3 3 4 4 1 4 4 3 1 2 4 3 1\n",
       "[1407] 4 4 1 1 2 3 1 2 4 3 3 3 2 3 4 4 1 3 2 3 3 1 4 1 3 3 2 4 1 4 1 4 4 1 1 2 3\n",
       "[1444] 4 1 1 4 1 1 1 2 4 1 1 1 3 1 2 4 1 4 4 1 3 4 2 1 1 1 2 1 1 4 1 1 4 4 1 1 2\n",
       "[1481] 3 3 1 4 3 2 1 1 4 1 4 3 4 4 1 1 2 1 4 4 3 2 1 1 1 2 1 3 4 4 4 1 4 1 3 1 2\n",
       "[1518] 3 2 3 4 3 2 4 3 4 4 4 4 2 4 4 3 5 4 3 1 3 2 1 1 4 2 4 4 5 4 4 4 4 4 1 4 4\n",
       "[1555] 2 4 2 4 4 4 4 2 1 2 1 1 3 4 4 4 2 1 4 4 2 3 2 1 4 2 4 5 2 1 1 2 4 3 3 3 1\n",
       "[1592] 4 1 4 4 2 1 4 2 1 4 2 4 4 5 1 1 1 1 4 2 1 4 1 3 1 1 3 4 4 4 2 4 4 2 3 1 3\n",
       "[1629] 1 1 1 3 4 3 3 1 4 3 2 1 4 1 4 3 4 1 1 4 1 2 1 4 1 4 4 2 1 4 4 4 4 2 2 4 4\n",
       "[1666] 2 1 2 4 4 3 1 1 4 3 4 4 1 3 4 4 1 5 4 2 3 1 5 4 4 4 4 3 4 1 4 4 1 4 3 4 3\n",
       "[1703] 4 4 1 4 3 1 2 1 4 4 4 3 5 2 4 3 4 5 2 1 2 3 1 1 3 4 3 1 2 3 3 4 1 2 2 4 1\n",
       "[1740] 3 1 4 3 1 2 1 4 4 3 4 1 3 4 4 2 1 1 1 4 2 4 4 3 3 4 4 1 2 2 1 1 4 4 4 2 4\n",
       "[1777] 5 4 1 2 1 4 5 1 4 4 1 3 1 1 1 1 3 1 3 3 5 3 3 1 1 4 4 4 1 4 4 5 3 2 3 1 1\n",
       "[1814] 4 3 1 4 4 3 4 1 4 4 3 4 4 1 1 1 4 1 3 4 5 4 1 4 1 3 1 3 4 1 5 1 3 2 2 4 1\n",
       "[1851] 1 1 4 1 3 3 1 1 1 1 3 1 4 4 3 3 1 3 3 3 1 4 4 3 4 1 1 4 4 1 3 4 1 4 4 4 2\n",
       "[1888] 4 1 4 1 2 1 1 1 1 3 1 1 3 1 2 1 4 1 1 1 4 1 3 4 1 1 3 3 3 4 2 4 4 3 1 3 1\n",
       "[1925] 3 4 1 1 2 1 5 4 3 1 1 4 3 4 4 2 3 1 1 4 2 1 1 4 1 1 3 1 1 2 3 4 3 2 1 3 4\n",
       "[1962] 1 2 3 1 4 3 2 2 1 3 5 1 3 4 1 1 1 3 4 2 4 1 3 2 1 4 4 1 4 4 4 1 4 1 3 1 2\n",
       "[1999] 1 5 1\n",
       "\n",
       "Within cluster sum of squares by cluster:\n",
       "[1] 36.763819 32.898357 45.614126 52.066167  8.567843\n",
       " (between_SS / total_SS =  79.1 %)\n",
       "\n",
       "Available components:\n",
       "\n",
       "[1] \"cluster\"      \"centers\"      \"totss\"        \"withinss\"     \"tot.withinss\"\n",
       "[6] \"betweenss\"    \"size\"         \"iter\"         \"ifault\"      "
      ]
     },
     "metadata": {},
     "output_type": "display_data"
    }
   ],
   "source": [
    "kmeans(kmeansDataFrame,centers=5)"
   ]
  },
  {
   "cell_type": "markdown",
   "metadata": {},
   "source": [
    "K-means has been plotted for 5 fields: Sex, Internet, Phone, Age and Marital and for value of k as 5. "
   ]
  },
  {
   "cell_type": "markdown",
   "metadata": {},
   "source": [
    "Comparision between kmeans for 3 and 5:\n",
    "It has been observed that the value of \"within cluster sum of squares\" which is used to measure efficiency of a kmean plot has been increased with increase in value of k.\n",
    "This can be accounted to better allocation of data to the clusters as there are more specific clusters available.\n",
    "We can check this observation by plotting the value of \"within cluster sum of squares\" against value of K."
   ]
  },
  {
   "cell_type": "code",
   "execution_count": 26,
   "metadata": {
    "collapsed": false
   },
   "outputs": [
    {
     "name": "stdout",
     "output_type": "stream",
     "text": [
      "[1] 2\n",
      "[1] 59.41749\n",
      "[1] 3\n",
      "[1] 68.19115\n",
      "[1] 4\n",
      "[1] 70.57329\n",
      "[1] 5\n",
      "[1] 78.11163\n",
      "[1] 6\n",
      "[1] 81.63798\n",
      "[1] 7\n",
      "[1] 83.79898\n",
      "[1] 8\n",
      "[1] 85.22577\n",
      "[1] 9\n",
      "[1] 89.01901\n",
      "[1] 10\n",
      "[1] 87.0184\n",
      "[1] 11\n",
      "[1] 91.42397\n",
      "[1] 12\n",
      "[1] 89.49731\n",
      "[1] 13\n",
      "[1] 92.29546\n",
      "[1] 14\n",
      "[1] 92.6753\n",
      "[1] 15\n",
      "[1] 92.49151\n",
      "[1] 16\n",
      "[1] 93.2848\n",
      "[1] 17\n",
      "[1] 93.58203\n",
      "[1] 18\n",
      "[1] 93.77222\n",
      "[1] 19\n",
      "[1] 89.46157\n",
      "[1] 20\n",
      "[1] 94.32265\n"
     ]
    }
   ],
   "source": [
    "OutputDataframe <- data.frame(K=integer(), WithinClSS=double())\n",
    "for(k in 2:20){\n",
    "    km <- kmeans(kmeansDataFrame,centers=k)\n",
    "    print(k)\n",
    "    print(km$betweenss/km$totss*100 )\n",
    "    OutputDataframe <- rbind(OutputDataframe, data.frame(K=k,WithinClSS=km$betweenss/km$totss*100))\n",
    "}\n"
   ]
  },
  {
   "cell_type": "markdown",
   "metadata": {},
   "source": [
    "Fetching values of \"within cluster sum of squares\" for values of k ranging from 2-20"
   ]
  },
  {
   "cell_type": "code",
   "execution_count": 27,
   "metadata": {
    "collapsed": false
   },
   "outputs": [
    {
     "data": {
      "text/html": [
       "<table>\n",
       "<thead><tr><th scope=col>K</th><th scope=col>WithinClSS</th></tr></thead>\n",
       "<tbody>\n",
       "\t<tr><td> 2      </td><td>59.41749</td></tr>\n",
       "\t<tr><td> 3      </td><td>68.19115</td></tr>\n",
       "\t<tr><td> 4      </td><td>70.57329</td></tr>\n",
       "\t<tr><td> 5      </td><td>78.11163</td></tr>\n",
       "\t<tr><td> 6      </td><td>81.63798</td></tr>\n",
       "\t<tr><td> 7      </td><td>83.79898</td></tr>\n",
       "\t<tr><td> 8      </td><td>85.22577</td></tr>\n",
       "\t<tr><td> 9      </td><td>89.01901</td></tr>\n",
       "\t<tr><td>10      </td><td>87.01840</td></tr>\n",
       "\t<tr><td>11      </td><td>91.42397</td></tr>\n",
       "\t<tr><td>12      </td><td>89.49731</td></tr>\n",
       "\t<tr><td>13      </td><td>92.29546</td></tr>\n",
       "\t<tr><td>14      </td><td>92.67530</td></tr>\n",
       "\t<tr><td>15      </td><td>92.49151</td></tr>\n",
       "\t<tr><td>16      </td><td>93.28480</td></tr>\n",
       "\t<tr><td>17      </td><td>93.58203</td></tr>\n",
       "\t<tr><td>18      </td><td>93.77222</td></tr>\n",
       "\t<tr><td>19      </td><td>89.46157</td></tr>\n",
       "\t<tr><td>20      </td><td>94.32265</td></tr>\n",
       "</tbody>\n",
       "</table>\n"
      ],
      "text/latex": [
       "\\begin{tabular}{r|ll}\n",
       " K & WithinClSS\\\\\n",
       "\\hline\n",
       "\t  2       & 59.41749\\\\\n",
       "\t  3       & 68.19115\\\\\n",
       "\t  4       & 70.57329\\\\\n",
       "\t  5       & 78.11163\\\\\n",
       "\t  6       & 81.63798\\\\\n",
       "\t  7       & 83.79898\\\\\n",
       "\t  8       & 85.22577\\\\\n",
       "\t  9       & 89.01901\\\\\n",
       "\t 10       & 87.01840\\\\\n",
       "\t 11       & 91.42397\\\\\n",
       "\t 12       & 89.49731\\\\\n",
       "\t 13       & 92.29546\\\\\n",
       "\t 14       & 92.67530\\\\\n",
       "\t 15       & 92.49151\\\\\n",
       "\t 16       & 93.28480\\\\\n",
       "\t 17       & 93.58203\\\\\n",
       "\t 18       & 93.77222\\\\\n",
       "\t 19       & 89.46157\\\\\n",
       "\t 20       & 94.32265\\\\\n",
       "\\end{tabular}\n"
      ],
      "text/markdown": [
       "\n",
       "K | WithinClSS | \n",
       "|---|---|---|---|---|---|---|---|---|---|---|---|---|---|---|---|---|---|---|\n",
       "|  2       | 59.41749 | \n",
       "|  3       | 68.19115 | \n",
       "|  4       | 70.57329 | \n",
       "|  5       | 78.11163 | \n",
       "|  6       | 81.63798 | \n",
       "|  7       | 83.79898 | \n",
       "|  8       | 85.22577 | \n",
       "|  9       | 89.01901 | \n",
       "| 10       | 87.01840 | \n",
       "| 11       | 91.42397 | \n",
       "| 12       | 89.49731 | \n",
       "| 13       | 92.29546 | \n",
       "| 14       | 92.67530 | \n",
       "| 15       | 92.49151 | \n",
       "| 16       | 93.28480 | \n",
       "| 17       | 93.58203 | \n",
       "| 18       | 93.77222 | \n",
       "| 19       | 89.46157 | \n",
       "| 20       | 94.32265 | \n",
       "\n",
       "\n"
      ],
      "text/plain": [
       "   K  WithinClSS\n",
       "1   2 59.41749  \n",
       "2   3 68.19115  \n",
       "3   4 70.57329  \n",
       "4   5 78.11163  \n",
       "5   6 81.63798  \n",
       "6   7 83.79898  \n",
       "7   8 85.22577  \n",
       "8   9 89.01901  \n",
       "9  10 87.01840  \n",
       "10 11 91.42397  \n",
       "11 12 89.49731  \n",
       "12 13 92.29546  \n",
       "13 14 92.67530  \n",
       "14 15 92.49151  \n",
       "15 16 93.28480  \n",
       "16 17 93.58203  \n",
       "17 18 93.77222  \n",
       "18 19 89.46157  \n",
       "19 20 94.32265  "
      ]
     },
     "metadata": {},
     "output_type": "display_data"
    }
   ],
   "source": [
    "OutputDataframe"
   ]
  },
  {
   "cell_type": "code",
   "execution_count": 32,
   "metadata": {
    "collapsed": false
   },
   "outputs": [
    {
     "data": {
      "image/png": "[encoded data removed]",
      "text/plain": [
       "plot without title"
      ]
     },
     "metadata": {},
     "output_type": "display_data"
    }
   ],
   "source": [
    "plot(OutputDataframe)"
   ]
  },
  {
   "cell_type": "markdown",
   "metadata": {},
   "source": [
    "Summary:\n",
    "The plotted graph of \"within cluster sum of squares\" against value of K, diplays that the points are better clustered when the number of clusters increase.\n",
    "But the there is minor increase in the value \"within cluster sum of squares\" after k reaches a certain value. In this case 12. Thus we can state that k=12 can be the best suited value for applying kmeans on this data set."
   ]
  },
  {
   "cell_type": "code",
   "execution_count": null,
   "metadata": {
    "collapsed": true
   },
   "outputs": [],
   "source": [
    "References:\n",
    "http://www.cse.buffalo.edu/~bina/cse487/spring2017/Lectures/classnotes.html#Part1"
   ]
  }
 ],
 "metadata": {
  "kernelspec": {
   "display_name": "R",
   "language": "R",
   "name": "ir"
  },
  "language_info": {
   "codemirror_mode": "r",
   "file_extension": ".r",
   "mimetype": "text/x-r-source",
   "name": "R",
   "pygments_lexer": "r",
   "version": "3.3.2"
  }
 },
 "nbformat": 4,
 "nbformat_minor": 2
}
