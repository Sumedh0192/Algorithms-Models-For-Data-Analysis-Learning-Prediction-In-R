{
 "cells": [
  {
   "cell_type": "code",
   "execution_count": 28,
   "metadata": {
    "collapsed": false
   },
   "outputs": [
    {
     "name": "stderr",
     "output_type": "stream",
     "text": [
      "Installing package into 'C:/Users/User/Documents/R/win-library/3.3'\n",
      "(as 'lib' is unspecified)\n"
     ]
    },
    {
     "name": "stdout",
     "output_type": "stream",
     "text": [
      "package 'class' successfully unpacked and MD5 sums checked\n"
     ]
    },
    {
     "name": "stderr",
     "output_type": "stream",
     "text": [
      "Warning message:\n",
      "\"cannot remove prior installation of package 'class'\""
     ]
    },
    {
     "name": "stdout",
     "output_type": "stream",
     "text": [
      "\n",
      "The downloaded binary packages are in\n",
      "\tC:\\Users\\User\\AppData\\Local\\Temp\\RtmpAtUHWv\\downloaded_packages\n"
     ]
    }
   ],
   "source": [
    "install.packages('class', repos='https://cran.r-project.org/')\n",
    "library('class')"
   ]
  },
  {
   "cell_type": "markdown",
   "metadata": {},
   "source": [
    "Add class package to the library for using knn function"
   ]
  },
  {
   "cell_type": "code",
   "execution_count": 21,
   "metadata": {
    "collapsed": false
   },
   "outputs": [
    {
     "data": {
      "text/html": [
       "<table>\n",
       "<thead><tr><th scope=col>X.</th><th scope=col>Age</th><th scope=col>Sex</th><th scope=col>Job</th><th scope=col>Housing</th><th scope=col>Saving.accounts</th><th scope=col>Checking.account</th><th scope=col>Credit.amount</th><th scope=col>Duration</th><th scope=col>Purpose</th><th scope=col>Credit.Risks</th></tr></thead>\n",
       "<tbody>\n",
       "\t<tr><td>0                  </td><td>67                 </td><td>male               </td><td>2                  </td><td>own                </td><td>NA                 </td><td>little             </td><td>1169               </td><td> 6                 </td><td>radio/TV           </td><td>1                  </td></tr>\n",
       "\t<tr><td>1                  </td><td>22                 </td><td>female             </td><td>2                  </td><td>own                </td><td>little             </td><td>moderate           </td><td>5951               </td><td>48                 </td><td>radio/TV           </td><td>2                  </td></tr>\n",
       "\t<tr><td>2                  </td><td>49                 </td><td>male               </td><td>1                  </td><td>own                </td><td>little             </td><td>NA                 </td><td>2096               </td><td>12                 </td><td>education          </td><td>1                  </td></tr>\n",
       "\t<tr><td>3                  </td><td>45                 </td><td>male               </td><td>2                  </td><td>free               </td><td>little             </td><td>little             </td><td>7882               </td><td>42                 </td><td>furniture/equipment</td><td>1                  </td></tr>\n",
       "\t<tr><td>4                  </td><td>53                 </td><td>male               </td><td>2                  </td><td>free               </td><td>little             </td><td>little             </td><td>4870               </td><td>24                 </td><td>car                </td><td>2                  </td></tr>\n",
       "\t<tr><td>5                  </td><td>35                 </td><td>male               </td><td>1                  </td><td>free               </td><td>NA                 </td><td>NA                 </td><td>9055               </td><td>36                 </td><td>education          </td><td>1                  </td></tr>\n",
       "</tbody>\n",
       "</table>\n"
      ],
      "text/latex": [
       "\\begin{tabular}{r|lllllllllll}\n",
       " X. & Age & Sex & Job & Housing & Saving.accounts & Checking.account & Credit.amount & Duration & Purpose & Credit.Risks\\\\\n",
       "\\hline\n",
       "\t 0                   & 67                  & male                & 2                   & own                 & NA                  & little              & 1169                &  6                  & radio/TV            & 1                  \\\\\n",
       "\t 1                   & 22                  & female              & 2                   & own                 & little              & moderate            & 5951                & 48                  & radio/TV            & 2                  \\\\\n",
       "\t 2                   & 49                  & male                & 1                   & own                 & little              & NA                  & 2096                & 12                  & education           & 1                  \\\\\n",
       "\t 3                   & 45                  & male                & 2                   & free                & little              & little              & 7882                & 42                  & furniture/equipment & 1                  \\\\\n",
       "\t 4                   & 53                  & male                & 2                   & free                & little              & little              & 4870                & 24                  & car                 & 2                  \\\\\n",
       "\t 5                   & 35                  & male                & 1                   & free                & NA                  & NA                  & 9055                & 36                  & education           & 1                  \\\\\n",
       "\\end{tabular}\n"
      ],
      "text/markdown": [
       "\n",
       "X. | Age | Sex | Job | Housing | Saving.accounts | Checking.account | Credit.amount | Duration | Purpose | Credit.Risks | \n",
       "|---|---|---|---|---|---|\n",
       "| 0                   | 67                  | male                | 2                   | own                 | NA                  | little              | 1169                |  6                  | radio/TV            | 1                   | \n",
       "| 1                   | 22                  | female              | 2                   | own                 | little              | moderate            | 5951                | 48                  | radio/TV            | 2                   | \n",
       "| 2                   | 49                  | male                | 1                   | own                 | little              | NA                  | 2096                | 12                  | education           | 1                   | \n",
       "| 3                   | 45                  | male                | 2                   | free                | little              | little              | 7882                | 42                  | furniture/equipment | 1                   | \n",
       "| 4                   | 53                  | male                | 2                   | free                | little              | little              | 4870                | 24                  | car                 | 2                   | \n",
       "| 5                   | 35                  | male                | 1                   | free                | NA                  | NA                  | 9055                | 36                  | education           | 1                   | \n",
       "\n",
       "\n"
      ],
      "text/plain": [
       "  X. Age Sex    Job Housing Saving.accounts Checking.account Credit.amount\n",
       "1 0  67  male   2   own     NA              little           1169         \n",
       "2 1  22  female 2   own     little          moderate         5951         \n",
       "3 2  49  male   1   own     little          NA               2096         \n",
       "4 3  45  male   2   free    little          little           7882         \n",
       "5 4  53  male   2   free    little          little           4870         \n",
       "6 5  35  male   1   free    NA              NA               9055         \n",
       "  Duration Purpose             Credit.Risks\n",
       "1  6       radio/TV            1           \n",
       "2 48       radio/TV            2           \n",
       "3 12       education           1           \n",
       "4 42       furniture/equipment 1           \n",
       "5 24       car                 2           \n",
       "6 36       education           1           "
      ]
     },
     "metadata": {},
     "output_type": "display_data"
    }
   ],
   "source": [
    "creditDetails <- read.csv(\"german_credit_data1.csv\")\n",
    "head(creditDetails)"
   ]
  },
  {
   "cell_type": "markdown",
   "metadata": {},
   "source": [
    "Get data from the csv file"
   ]
  },
  {
   "cell_type": "code",
   "execution_count": 22,
   "metadata": {
    "collapsed": false
   },
   "outputs": [],
   "source": [
    "normalize <- function(x){ \n",
    "    (x-min(x))/(max(x)-min(x))\n",
    "}"
   ]
  },
  {
   "cell_type": "markdown",
   "metadata": {},
   "source": [
    "Declaring the normalize function to restrict the values in a column between 0-1"
   ]
  },
  {
   "cell_type": "code",
   "execution_count": 23,
   "metadata": {
    "collapsed": false,
    "scrolled": true
   },
   "outputs": [
    {
     "data": {
      "text/html": [
       "<table>\n",
       "<thead><tr><th scope=col>X.</th><th scope=col>Age</th><th scope=col>Sex</th><th scope=col>Job</th><th scope=col>Housing</th><th scope=col>Saving.accounts</th><th scope=col>Checking.account</th><th scope=col>Credit.amount</th><th scope=col>Duration</th><th scope=col>Purpose</th><th scope=col>Credit.Risks</th></tr></thead>\n",
       "<tbody>\n",
       "\t<tr><td>0   </td><td>67  </td><td>2   </td><td>2   </td><td>2   </td><td>0   </td><td>1   </td><td>1169</td><td> 6  </td><td>6   </td><td>1   </td></tr>\n",
       "\t<tr><td>1   </td><td>22  </td><td>1   </td><td>2   </td><td>2   </td><td>1   </td><td>2   </td><td>5951</td><td>48  </td><td>6   </td><td>2   </td></tr>\n",
       "\t<tr><td>2   </td><td>49  </td><td>2   </td><td>1   </td><td>2   </td><td>1   </td><td>0   </td><td>2096</td><td>12  </td><td>4   </td><td>1   </td></tr>\n",
       "\t<tr><td>3   </td><td>45  </td><td>2   </td><td>2   </td><td>1   </td><td>1   </td><td>1   </td><td>7882</td><td>42  </td><td>5   </td><td>1   </td></tr>\n",
       "\t<tr><td>4   </td><td>53  </td><td>2   </td><td>2   </td><td>1   </td><td>1   </td><td>1   </td><td>4870</td><td>24  </td><td>2   </td><td>2   </td></tr>\n",
       "\t<tr><td>5   </td><td>35  </td><td>2   </td><td>1   </td><td>1   </td><td>0   </td><td>0   </td><td>9055</td><td>36  </td><td>4   </td><td>1   </td></tr>\n",
       "</tbody>\n",
       "</table>\n"
      ],
      "text/latex": [
       "\\begin{tabular}{r|lllllllllll}\n",
       " X. & Age & Sex & Job & Housing & Saving.accounts & Checking.account & Credit.amount & Duration & Purpose & Credit.Risks\\\\\n",
       "\\hline\n",
       "\t 0    & 67   & 2    & 2    & 2    & 0    & 1    & 1169 &  6   & 6    & 1   \\\\\n",
       "\t 1    & 22   & 1    & 2    & 2    & 1    & 2    & 5951 & 48   & 6    & 2   \\\\\n",
       "\t 2    & 49   & 2    & 1    & 2    & 1    & 0    & 2096 & 12   & 4    & 1   \\\\\n",
       "\t 3    & 45   & 2    & 2    & 1    & 1    & 1    & 7882 & 42   & 5    & 1   \\\\\n",
       "\t 4    & 53   & 2    & 2    & 1    & 1    & 1    & 4870 & 24   & 2    & 2   \\\\\n",
       "\t 5    & 35   & 2    & 1    & 1    & 0    & 0    & 9055 & 36   & 4    & 1   \\\\\n",
       "\\end{tabular}\n"
      ],
      "text/markdown": [
       "\n",
       "X. | Age | Sex | Job | Housing | Saving.accounts | Checking.account | Credit.amount | Duration | Purpose | Credit.Risks | \n",
       "|---|---|---|---|---|---|\n",
       "| 0    | 67   | 2    | 2    | 2    | 0    | 1    | 1169 |  6   | 6    | 1    | \n",
       "| 1    | 22   | 1    | 2    | 2    | 1    | 2    | 5951 | 48   | 6    | 2    | \n",
       "| 2    | 49   | 2    | 1    | 2    | 1    | 0    | 2096 | 12   | 4    | 1    | \n",
       "| 3    | 45   | 2    | 2    | 1    | 1    | 1    | 7882 | 42   | 5    | 1    | \n",
       "| 4    | 53   | 2    | 2    | 1    | 1    | 1    | 4870 | 24   | 2    | 2    | \n",
       "| 5    | 35   | 2    | 1    | 1    | 0    | 0    | 9055 | 36   | 4    | 1    | \n",
       "\n",
       "\n"
      ],
      "text/plain": [
       "  X. Age Sex Job Housing Saving.accounts Checking.account Credit.amount\n",
       "1 0  67  2   2   2       0               1                1169         \n",
       "2 1  22  1   2   2       1               2                5951         \n",
       "3 2  49  2   1   2       1               0                2096         \n",
       "4 3  45  2   2   1       1               1                7882         \n",
       "5 4  53  2   2   1       1               1                4870         \n",
       "6 5  35  2   1   1       0               0                9055         \n",
       "  Duration Purpose Credit.Risks\n",
       "1  6       6       1           \n",
       "2 48       6       2           \n",
       "3 12       4       1           \n",
       "4 42       5       1           \n",
       "5 24       2       2           \n",
       "6 36       4       1           "
      ]
     },
     "metadata": {},
     "output_type": "display_data"
    }
   ],
   "source": [
    "creditDetails <- as.data.frame(sapply(creditDetails, as.numeric),stringsAsFactors=FALSE)\n",
    "creditDetails[is.na(creditDetails)] <- 0\n",
    "normalCreditDetails <- as.data.frame(lapply(creditDetails,normalize))\n",
    "head(creditDetails)"
   ]
  },
  {
   "cell_type": "markdown",
   "metadata": {},
   "source": [
    "Make data numeric and normalize all the columns"
   ]
  },
  {
   "cell_type": "code",
   "execution_count": 45,
   "metadata": {
    "collapsed": false
   },
   "outputs": [],
   "source": [
    "performKNN <- function(trainingSetPercent, creditDataFrame, predictionData){\n",
    "    \n",
    "    outputDataFrame <- data.frame(Samplings=character(), K=integer(), MisCalRate=double())\n",
    "    newRow <- data.frame(Samplings=character(), K=integer(), MisCalRate=double())\n",
    "\trecordCount <- nrow(creditDataFrame)\n",
    "    samplingRate <- trainingSetPercent*0.01\n",
    "    testingLabelsCount <- recordCount* (1 - samplingRate)\n",
    "    trainingDataIndices <- sample(1:recordCount, samplingRate*recordCount, replace=FALSE)\n",
    "    trainingData <- subset(creditDataFrame[trainingDataIndices,], select=c(\"Age\",\"Sex\",\"Job\",\"Housing\",\"Saving.accounts\",\"Checking.account\",\"Credit.amount\",\"Duration\",\"Purpose\"))\n",
    "    testingDataIndices <- setdiff(1:recordCount,trainingDataIndices)\n",
    "\ttestData <- subset(creditDataFrame[testingDataIndices,], select=c(\"Age\",\"Sex\",\"Job\",\"Housing\",\"Saving.accounts\",\"Checking.account\",\"Credit.amount\",\"Duration\",\"Purpose\"))\n",
    "\ttrainingLabels <- creditDataFrame$Credit.Risks[trainingDataIndices]\n",
    "\ttestingTrueLabels <- creditDataFrame$Credit.Risks[testingDataIndices]\n",
    "\tkWithLowestMCRate <- 1\n",
    "\tLowestMCRate <- 1\n",
    "\tfor(k in 1:20) {\n",
    "\t\t#print(k)\n",
    "\t\tpredictedLabels <- knn(trainingData,testData,trainingLabels,k)\n",
    "\t\tnumIncorrectLabels <- sum(predictedLabels != testingTrueLabels)\n",
    "\t\tmisclassificationRate <- numIncorrectLabels/testingLabelsCount\n",
    "\t\tif(LowestMCRate > misclassificationRate){\n",
    "\t\t\tkWithLowestMCRate <- k\n",
    "\t\t\tLowestMCRate <- misclassificationRate\n",
    "\t\t}\n",
    "\t\t#print(misclassificationRate)\n",
    "        newRow <- data.frame(Sampling=paste(toString(100-trainingSetPercent),toString(trainingSetPercent), sep=\"-\"), K=k, MisCalRate=misclassificationRate)\n",
    "        outputDataFrame <- rbind(outputDataFrame,newRow)\n",
    "\t}\n",
    "\t#print(kWithLowestMCRate)\n",
    "\tpredictedLabel <- knn(trainingData, predictionData, trainingLabels, kWithLowestMCRate)\n",
    "    print(predictedLabel)\n",
    "\t#print(\"Label --> \")\n",
    "\treturn(outputDataFrame)\n",
    "}"
   ]
  },
  {
   "cell_type": "markdown",
   "metadata": {},
   "source": [
    "Created a function based on the code provided to perform knn for multiple inputs"
   ]
  },
  {
   "cell_type": "code",
   "execution_count": 46,
   "metadata": {
    "collapsed": false
   },
   "outputs": [
    {
     "data": {
      "text/html": [
       "<table>\n",
       "<thead><tr><th scope=col>Age</th><th scope=col>Sex</th><th scope=col>Job</th><th scope=col>Housing</th><th scope=col>Saving.accounts</th><th scope=col>Checking.account</th><th scope=col>Credit.amount</th><th scope=col>Duration</th><th scope=col>Purpose</th></tr></thead>\n",
       "<tbody>\n",
       "\t<tr><td>0.5678   </td><td>1        </td><td>0.6666667</td><td>0.5      </td><td>0.5      </td><td>0.3333333</td><td>0.4324406</td><td>0.6470588</td><td>0.4285714</td></tr>\n",
       "</tbody>\n",
       "</table>\n"
      ],
      "text/latex": [
       "\\begin{tabular}{r|lllllllll}\n",
       " Age & Sex & Job & Housing & Saving.accounts & Checking.account & Credit.amount & Duration & Purpose\\\\\n",
       "\\hline\n",
       "\t 0.5678    & 1         & 0.6666667 & 0.5       & 0.5       & 0.3333333 & 0.4324406 & 0.6470588 & 0.4285714\\\\\n",
       "\\end{tabular}\n"
      ],
      "text/markdown": [
       "\n",
       "Age | Sex | Job | Housing | Saving.accounts | Checking.account | Credit.amount | Duration | Purpose | \n",
       "|---|\n",
       "| 0.5678    | 1         | 0.6666667 | 0.5       | 0.5       | 0.3333333 | 0.4324406 | 0.6470588 | 0.4285714 | \n",
       "\n",
       "\n"
      ],
      "text/plain": [
       "  Age    Sex Job       Housing Saving.accounts Checking.account Credit.amount\n",
       "1 0.5678 1   0.6666667 0.5     0.5             0.3333333        0.4324406    \n",
       "  Duration  Purpose  \n",
       "1 0.6470588 0.4285714"
      ]
     },
     "metadata": {},
     "output_type": "display_data"
    }
   ],
   "source": [
    "predictionData <- data.frame(0.5678,1,0.6666667,0.5,0.5,0.3333333,0.43244057,0.64705882,0.4285714)\n",
    "names(predictionData) <- c(\"Age\",\"Sex\",\"Job\",\"Housing\",\"Saving.accounts\",\"Checking.account\",\"Credit.amount\",\"Duration\",\"Purpose\")\n",
    "head(predictionData)"
   ]
  },
  {
   "cell_type": "markdown",
   "metadata": {},
   "source": [
    "Created dummy data for prediction based on the derived knn function."
   ]
  },
  {
   "cell_type": "code",
   "execution_count": 47,
   "metadata": {
    "collapsed": false
   },
   "outputs": [
    {
     "name": "stdout",
     "output_type": "stream",
     "text": [
      "[1] 1\n",
      "Levels: 0 1\n",
      "[1] 1\n",
      "Levels: 0 1\n",
      "[1] 1\n",
      "Levels: 0 1\n",
      "[1] 1\n",
      "Levels: 0 1\n",
      "[1] 1\n",
      "Levels: 0 1\n"
     ]
    },
    {
     "data": {
      "text/html": [
       "<table>\n",
       "<thead><tr><th scope=col>Sampling</th><th scope=col>K</th><th scope=col>MisCalRate</th></tr></thead>\n",
       "<tbody>\n",
       "\t<tr><td>50-50 </td><td> 1    </td><td>0.3480</td></tr>\n",
       "\t<tr><td>50-50 </td><td> 2    </td><td>0.3320</td></tr>\n",
       "\t<tr><td>50-50 </td><td> 3    </td><td>0.3320</td></tr>\n",
       "\t<tr><td>50-50 </td><td> 4    </td><td>0.3220</td></tr>\n",
       "\t<tr><td>50-50 </td><td> 5    </td><td>0.3260</td></tr>\n",
       "\t<tr><td>50-50 </td><td> 6    </td><td>0.3260</td></tr>\n",
       "\t<tr><td>50-50 </td><td> 7    </td><td>0.3340</td></tr>\n",
       "\t<tr><td>50-50 </td><td> 8    </td><td>0.3220</td></tr>\n",
       "\t<tr><td>50-50 </td><td> 9    </td><td>0.3160</td></tr>\n",
       "\t<tr><td>50-50 </td><td>10    </td><td>0.3160</td></tr>\n",
       "\t<tr><td>50-50 </td><td>11    </td><td>0.3200</td></tr>\n",
       "\t<tr><td>50-50 </td><td>12    </td><td>0.3160</td></tr>\n",
       "\t<tr><td>50-50 </td><td>13    </td><td>0.3080</td></tr>\n",
       "\t<tr><td>50-50 </td><td>14    </td><td>0.3100</td></tr>\n",
       "\t<tr><td>50-50 </td><td>15    </td><td>0.3080</td></tr>\n",
       "\t<tr><td>50-50 </td><td>16    </td><td>0.3120</td></tr>\n",
       "\t<tr><td>50-50 </td><td>17    </td><td>0.3200</td></tr>\n",
       "\t<tr><td>50-50 </td><td>18    </td><td>0.3200</td></tr>\n",
       "\t<tr><td>50-50 </td><td>19    </td><td>0.3100</td></tr>\n",
       "\t<tr><td>50-50 </td><td>20    </td><td>0.3100</td></tr>\n",
       "\t<tr><td>40-60 </td><td> 1    </td><td>0.3350</td></tr>\n",
       "\t<tr><td>40-60 </td><td> 2    </td><td>0.3500</td></tr>\n",
       "\t<tr><td>40-60 </td><td> 3    </td><td>0.3100</td></tr>\n",
       "\t<tr><td>40-60 </td><td> 4    </td><td>0.2900</td></tr>\n",
       "\t<tr><td>40-60 </td><td> 5    </td><td>0.2850</td></tr>\n",
       "\t<tr><td>40-60 </td><td> 6    </td><td>0.2900</td></tr>\n",
       "\t<tr><td>40-60 </td><td> 7    </td><td>0.2975</td></tr>\n",
       "\t<tr><td>40-60 </td><td> 8    </td><td>0.3250</td></tr>\n",
       "\t<tr><td>40-60 </td><td> 9    </td><td>0.2950</td></tr>\n",
       "\t<tr><td>40-60 </td><td>10    </td><td>0.2875</td></tr>\n",
       "\t<tr><td>...</td><td>...</td><td>...</td></tr>\n",
       "\t<tr><td>20-80</td><td>11   </td><td>0.310</td></tr>\n",
       "\t<tr><td>20-80</td><td>12   </td><td>0.325</td></tr>\n",
       "\t<tr><td>20-80</td><td>13   </td><td>0.295</td></tr>\n",
       "\t<tr><td>20-80</td><td>14   </td><td>0.300</td></tr>\n",
       "\t<tr><td>20-80</td><td>15   </td><td>0.295</td></tr>\n",
       "\t<tr><td>20-80</td><td>16   </td><td>0.305</td></tr>\n",
       "\t<tr><td>20-80</td><td>17   </td><td>0.310</td></tr>\n",
       "\t<tr><td>20-80</td><td>18   </td><td>0.290</td></tr>\n",
       "\t<tr><td>20-80</td><td>19   </td><td>0.325</td></tr>\n",
       "\t<tr><td>20-80</td><td>20   </td><td>0.295</td></tr>\n",
       "\t<tr><td>10-90</td><td> 1   </td><td>0.330</td></tr>\n",
       "\t<tr><td>10-90</td><td> 2   </td><td>0.330</td></tr>\n",
       "\t<tr><td>10-90</td><td> 3   </td><td>0.330</td></tr>\n",
       "\t<tr><td>10-90</td><td> 4   </td><td>0.340</td></tr>\n",
       "\t<tr><td>10-90</td><td> 5   </td><td>0.350</td></tr>\n",
       "\t<tr><td>10-90</td><td> 6   </td><td>0.330</td></tr>\n",
       "\t<tr><td>10-90</td><td> 7   </td><td>0.320</td></tr>\n",
       "\t<tr><td>10-90</td><td> 8   </td><td>0.300</td></tr>\n",
       "\t<tr><td>10-90</td><td> 9   </td><td>0.290</td></tr>\n",
       "\t<tr><td>10-90</td><td>10   </td><td>0.270</td></tr>\n",
       "\t<tr><td>10-90</td><td>11   </td><td>0.300</td></tr>\n",
       "\t<tr><td>10-90</td><td>12   </td><td>0.310</td></tr>\n",
       "\t<tr><td>10-90</td><td>13   </td><td>0.340</td></tr>\n",
       "\t<tr><td>10-90</td><td>14   </td><td>0.320</td></tr>\n",
       "\t<tr><td>10-90</td><td>15   </td><td>0.320</td></tr>\n",
       "\t<tr><td>10-90</td><td>16   </td><td>0.330</td></tr>\n",
       "\t<tr><td>10-90</td><td>17   </td><td>0.330</td></tr>\n",
       "\t<tr><td>10-90</td><td>18   </td><td>0.320</td></tr>\n",
       "\t<tr><td>10-90</td><td>19   </td><td>0.330</td></tr>\n",
       "\t<tr><td>10-90</td><td>20   </td><td>0.330</td></tr>\n",
       "</tbody>\n",
       "</table>\n"
      ],
      "text/latex": [
       "\\begin{tabular}{r|lll}\n",
       " Sampling & K & MisCalRate\\\\\n",
       "\\hline\n",
       "\t 50-50  &  1     & 0.3480\\\\\n",
       "\t 50-50  &  2     & 0.3320\\\\\n",
       "\t 50-50  &  3     & 0.3320\\\\\n",
       "\t 50-50  &  4     & 0.3220\\\\\n",
       "\t 50-50  &  5     & 0.3260\\\\\n",
       "\t 50-50  &  6     & 0.3260\\\\\n",
       "\t 50-50  &  7     & 0.3340\\\\\n",
       "\t 50-50  &  8     & 0.3220\\\\\n",
       "\t 50-50  &  9     & 0.3160\\\\\n",
       "\t 50-50  & 10     & 0.3160\\\\\n",
       "\t 50-50  & 11     & 0.3200\\\\\n",
       "\t 50-50  & 12     & 0.3160\\\\\n",
       "\t 50-50  & 13     & 0.3080\\\\\n",
       "\t 50-50  & 14     & 0.3100\\\\\n",
       "\t 50-50  & 15     & 0.3080\\\\\n",
       "\t 50-50  & 16     & 0.3120\\\\\n",
       "\t 50-50  & 17     & 0.3200\\\\\n",
       "\t 50-50  & 18     & 0.3200\\\\\n",
       "\t 50-50  & 19     & 0.3100\\\\\n",
       "\t 50-50  & 20     & 0.3100\\\\\n",
       "\t 40-60  &  1     & 0.3350\\\\\n",
       "\t 40-60  &  2     & 0.3500\\\\\n",
       "\t 40-60  &  3     & 0.3100\\\\\n",
       "\t 40-60  &  4     & 0.2900\\\\\n",
       "\t 40-60  &  5     & 0.2850\\\\\n",
       "\t 40-60  &  6     & 0.2900\\\\\n",
       "\t 40-60  &  7     & 0.2975\\\\\n",
       "\t 40-60  &  8     & 0.3250\\\\\n",
       "\t 40-60  &  9     & 0.2950\\\\\n",
       "\t 40-60  & 10     & 0.2875\\\\\n",
       "\t ... & ... & ...\\\\\n",
       "\t 20-80 & 11    & 0.310\\\\\n",
       "\t 20-80 & 12    & 0.325\\\\\n",
       "\t 20-80 & 13    & 0.295\\\\\n",
       "\t 20-80 & 14    & 0.300\\\\\n",
       "\t 20-80 & 15    & 0.295\\\\\n",
       "\t 20-80 & 16    & 0.305\\\\\n",
       "\t 20-80 & 17    & 0.310\\\\\n",
       "\t 20-80 & 18    & 0.290\\\\\n",
       "\t 20-80 & 19    & 0.325\\\\\n",
       "\t 20-80 & 20    & 0.295\\\\\n",
       "\t 10-90 &  1    & 0.330\\\\\n",
       "\t 10-90 &  2    & 0.330\\\\\n",
       "\t 10-90 &  3    & 0.330\\\\\n",
       "\t 10-90 &  4    & 0.340\\\\\n",
       "\t 10-90 &  5    & 0.350\\\\\n",
       "\t 10-90 &  6    & 0.330\\\\\n",
       "\t 10-90 &  7    & 0.320\\\\\n",
       "\t 10-90 &  8    & 0.300\\\\\n",
       "\t 10-90 &  9    & 0.290\\\\\n",
       "\t 10-90 & 10    & 0.270\\\\\n",
       "\t 10-90 & 11    & 0.300\\\\\n",
       "\t 10-90 & 12    & 0.310\\\\\n",
       "\t 10-90 & 13    & 0.340\\\\\n",
       "\t 10-90 & 14    & 0.320\\\\\n",
       "\t 10-90 & 15    & 0.320\\\\\n",
       "\t 10-90 & 16    & 0.330\\\\\n",
       "\t 10-90 & 17    & 0.330\\\\\n",
       "\t 10-90 & 18    & 0.320\\\\\n",
       "\t 10-90 & 19    & 0.330\\\\\n",
       "\t 10-90 & 20    & 0.330\\\\\n",
       "\\end{tabular}\n"
      ],
      "text/markdown": [
       "\n",
       "Sampling | K | MisCalRate | \n",
       "|---|---|---|---|---|---|---|---|---|---|---|---|---|---|---|---|---|---|---|---|---|---|---|---|---|---|---|---|---|---|---|---|---|---|---|---|---|---|---|---|---|---|---|---|---|---|---|---|---|---|---|---|---|---|---|---|---|---|---|---|---|\n",
       "| 50-50  |  1     | 0.3480 | \n",
       "| 50-50  |  2     | 0.3320 | \n",
       "| 50-50  |  3     | 0.3320 | \n",
       "| 50-50  |  4     | 0.3220 | \n",
       "| 50-50  |  5     | 0.3260 | \n",
       "| 50-50  |  6     | 0.3260 | \n",
       "| 50-50  |  7     | 0.3340 | \n",
       "| 50-50  |  8     | 0.3220 | \n",
       "| 50-50  |  9     | 0.3160 | \n",
       "| 50-50  | 10     | 0.3160 | \n",
       "| 50-50  | 11     | 0.3200 | \n",
       "| 50-50  | 12     | 0.3160 | \n",
       "| 50-50  | 13     | 0.3080 | \n",
       "| 50-50  | 14     | 0.3100 | \n",
       "| 50-50  | 15     | 0.3080 | \n",
       "| 50-50  | 16     | 0.3120 | \n",
       "| 50-50  | 17     | 0.3200 | \n",
       "| 50-50  | 18     | 0.3200 | \n",
       "| 50-50  | 19     | 0.3100 | \n",
       "| 50-50  | 20     | 0.3100 | \n",
       "| 40-60  |  1     | 0.3350 | \n",
       "| 40-60  |  2     | 0.3500 | \n",
       "| 40-60  |  3     | 0.3100 | \n",
       "| 40-60  |  4     | 0.2900 | \n",
       "| 40-60  |  5     | 0.2850 | \n",
       "| 40-60  |  6     | 0.2900 | \n",
       "| 40-60  |  7     | 0.2975 | \n",
       "| 40-60  |  8     | 0.3250 | \n",
       "| 40-60  |  9     | 0.2950 | \n",
       "| 40-60  | 10     | 0.2875 | \n",
       "| ... | ... | ... | \n",
       "| 20-80 | 11    | 0.310 | \n",
       "| 20-80 | 12    | 0.325 | \n",
       "| 20-80 | 13    | 0.295 | \n",
       "| 20-80 | 14    | 0.300 | \n",
       "| 20-80 | 15    | 0.295 | \n",
       "| 20-80 | 16    | 0.305 | \n",
       "| 20-80 | 17    | 0.310 | \n",
       "| 20-80 | 18    | 0.290 | \n",
       "| 20-80 | 19    | 0.325 | \n",
       "| 20-80 | 20    | 0.295 | \n",
       "| 10-90 |  1    | 0.330 | \n",
       "| 10-90 |  2    | 0.330 | \n",
       "| 10-90 |  3    | 0.330 | \n",
       "| 10-90 |  4    | 0.340 | \n",
       "| 10-90 |  5    | 0.350 | \n",
       "| 10-90 |  6    | 0.330 | \n",
       "| 10-90 |  7    | 0.320 | \n",
       "| 10-90 |  8    | 0.300 | \n",
       "| 10-90 |  9    | 0.290 | \n",
       "| 10-90 | 10    | 0.270 | \n",
       "| 10-90 | 11    | 0.300 | \n",
       "| 10-90 | 12    | 0.310 | \n",
       "| 10-90 | 13    | 0.340 | \n",
       "| 10-90 | 14    | 0.320 | \n",
       "| 10-90 | 15    | 0.320 | \n",
       "| 10-90 | 16    | 0.330 | \n",
       "| 10-90 | 17    | 0.330 | \n",
       "| 10-90 | 18    | 0.320 | \n",
       "| 10-90 | 19    | 0.330 | \n",
       "| 10-90 | 20    | 0.330 | \n",
       "\n",
       "\n"
      ],
      "text/plain": [
       "    Sampling K   MisCalRate\n",
       "1   50-50     1  0.3480    \n",
       "2   50-50     2  0.3320    \n",
       "3   50-50     3  0.3320    \n",
       "4   50-50     4  0.3220    \n",
       "5   50-50     5  0.3260    \n",
       "6   50-50     6  0.3260    \n",
       "7   50-50     7  0.3340    \n",
       "8   50-50     8  0.3220    \n",
       "9   50-50     9  0.3160    \n",
       "10  50-50    10  0.3160    \n",
       "11  50-50    11  0.3200    \n",
       "12  50-50    12  0.3160    \n",
       "13  50-50    13  0.3080    \n",
       "14  50-50    14  0.3100    \n",
       "15  50-50    15  0.3080    \n",
       "16  50-50    16  0.3120    \n",
       "17  50-50    17  0.3200    \n",
       "18  50-50    18  0.3200    \n",
       "19  50-50    19  0.3100    \n",
       "20  50-50    20  0.3100    \n",
       "21  40-60     1  0.3350    \n",
       "22  40-60     2  0.3500    \n",
       "23  40-60     3  0.3100    \n",
       "24  40-60     4  0.2900    \n",
       "25  40-60     5  0.2850    \n",
       "26  40-60     6  0.2900    \n",
       "27  40-60     7  0.2975    \n",
       "28  40-60     8  0.3250    \n",
       "29  40-60     9  0.2950    \n",
       "30  40-60    10  0.2875    \n",
       "... ...      ... ...       \n",
       "71  20-80    11  0.310     \n",
       "72  20-80    12  0.325     \n",
       "73  20-80    13  0.295     \n",
       "74  20-80    14  0.300     \n",
       "75  20-80    15  0.295     \n",
       "76  20-80    16  0.305     \n",
       "77  20-80    17  0.310     \n",
       "78  20-80    18  0.290     \n",
       "79  20-80    19  0.325     \n",
       "80  20-80    20  0.295     \n",
       "81  10-90     1  0.330     \n",
       "82  10-90     2  0.330     \n",
       "83  10-90     3  0.330     \n",
       "84  10-90     4  0.340     \n",
       "85  10-90     5  0.350     \n",
       "86  10-90     6  0.330     \n",
       "87  10-90     7  0.320     \n",
       "88  10-90     8  0.300     \n",
       "89  10-90     9  0.290     \n",
       "90  10-90    10  0.270     \n",
       "91  10-90    11  0.300     \n",
       "92  10-90    12  0.310     \n",
       "93  10-90    13  0.340     \n",
       "94  10-90    14  0.320     \n",
       "95  10-90    15  0.320     \n",
       "96  10-90    16  0.330     \n",
       "97  10-90    17  0.330     \n",
       "98  10-90    18  0.320     \n",
       "99  10-90    19  0.330     \n",
       "100 10-90    20  0.330     "
      ]
     },
     "metadata": {},
     "output_type": "display_data"
    }
   ],
   "source": [
    "misCalData <- data.frame(Samplings=character(), K=integer(), MisCalRate=double())\n",
    "for(trainingSize in seq(from=50, to=90, by=10)){\n",
    "    misCalData <- rbind(misCalData, performKNN(trainingSize,normalCreditDetails,predictionData))\n",
    "}\n",
    "misCalData"
   ]
  },
  {
   "cell_type": "markdown",
   "metadata": {},
   "source": [
    "The knn function has been applied for multiple sample data and for each sample the k value is varied from 1-20"
   ]
  },
  {
   "cell_type": "markdown",
   "metadata": {},
   "source": [
    "References:\n",
    "http://www.cse.buffalo.edu/~bina/cse487/spring2017/Lectures/classnotes.html#Part1"
   ]
  }
 ],
 "metadata": {
  "kernelspec": {
   "display_name": "R",
   "language": "R",
   "name": "ir"
  },
  "language_info": {
   "codemirror_mode": "r",
   "file_extension": ".r",
   "mimetype": "text/x-r-source",
   "name": "R",
   "pygments_lexer": "r",
   "version": "3.3.2"
  }
 },
 "nbformat": 4,
 "nbformat_minor": 2
}
