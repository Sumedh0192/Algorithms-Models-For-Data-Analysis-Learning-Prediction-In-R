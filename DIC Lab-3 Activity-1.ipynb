{
 "cells": [
  {
   "cell_type": "code",
   "execution_count": 2,
   "metadata": {
    "collapsed": false
   },
   "outputs": [
    {
     "name": "stderr",
     "output_type": "stream",
     "text": [
      "Installing package into 'C:/Users/User/Documents/R/win-library/3.3'\n",
      "(as 'lib' is unspecified)\n"
     ]
    },
    {
     "name": "stdout",
     "output_type": "stream",
     "text": [
      "package 'xlsx' successfully unpacked and MD5 sums checked\n",
      "\n",
      "The downloaded binary packages are in\n",
      "\tC:\\Users\\User\\AppData\\Local\\Temp\\Rtmpuy5J45\\downloaded_packages\n"
     ]
    }
   ],
   "source": [
    "install.packages('xlsx', repos='https://cran.r-project.org/')"
   ]
  },
  {
   "cell_type": "code",
   "execution_count": 3,
   "metadata": {
    "collapsed": false
   },
   "outputs": [
    {
     "name": "stderr",
     "output_type": "stream",
     "text": [
      "Loading required package: rJava\n",
      "Loading required package: xlsxjars\n"
     ]
    }
   ],
   "source": [
    "library(\"xlsx\")"
   ]
  },
  {
   "cell_type": "markdown",
   "metadata": {},
   "source": [
    "Adding xlsx to library"
   ]
  },
  {
   "cell_type": "code",
   "execution_count": 66,
   "metadata": {
    "collapsed": false
   },
   "outputs": [
    {
     "data": {
      "text/html": [
       "<table>\n",
       "<thead><tr><th scope=col>Rank</th><th scope=col>Player</th><th scope=col>Team</th><th scope=col>Pos</th><th scope=col>X1st.NHL.Season</th><th scope=col>Last.NHL.Season</th><th scope=col>GP</th><th scope=col>G</th><th scope=col>A</th><th scope=col>P</th><th scope=col>X...</th><th scope=col>PIM</th><th scope=col>PP</th><th scope=col>SH</th><th scope=col>GW</th><th scope=col>GT</th><th scope=col>OT</th><th scope=col>Shots</th></tr></thead>\n",
       "<tbody>\n",
       "\t<tr><td>1            </td><td>Wayne Gretzky</td><td>NA           </td><td>C            </td><td>1979-1980    </td><td>1998-1999    </td><td>1487         </td><td>894          </td><td>1963         </td><td>2857         </td><td>518          </td><td> 577         </td><td>204          </td><td>73           </td><td>91           </td><td>12           </td><td> 1           </td><td>5089         </td></tr>\n",
       "\t<tr><td>2            </td><td>Mark Messier </td><td>NA           </td><td>C            </td><td>1979-1980    </td><td>2003-2004    </td><td>1756         </td><td>694          </td><td>1193         </td><td>1887         </td><td>210          </td><td>1910         </td><td>179          </td><td>63           </td><td>92           </td><td>15           </td><td> 7           </td><td>4219         </td></tr>\n",
       "\t<tr><td>3            </td><td>Gordie Howe  </td><td>NA           </td><td>R            </td><td>1946-1947    </td><td>1979-1980    </td><td>1767         </td><td>801          </td><td>1049         </td><td>1850         </td><td> 87          </td><td>1685         </td><td> 39          </td><td> 5           </td><td>18           </td><td>NA           </td><td>NA           </td><td>  NA         </td></tr>\n",
       "\t<tr><td>4            </td><td>Ron Francis  </td><td>NA           </td><td>C            </td><td>1981-1982    </td><td>2003-2004    </td><td>1731         </td><td>549          </td><td>1249         </td><td>1798         </td><td>-10          </td><td> 979         </td><td>188          </td><td>12           </td><td>79           </td><td>13           </td><td> 3           </td><td>3754         </td></tr>\n",
       "\t<tr><td>5            </td><td>Marcel Dionne</td><td>NA           </td><td>C            </td><td>1971-1972    </td><td>1988-1989    </td><td>1348         </td><td>731          </td><td>1040         </td><td>1771         </td><td> 28          </td><td> 600         </td><td>234          </td><td>19           </td><td>74           </td><td> 1           </td><td> 2           </td><td>5366         </td></tr>\n",
       "\t<tr><td>6            </td><td>Steve Yzerman</td><td>NA           </td><td>C            </td><td>1983-1984    </td><td>2005-2006    </td><td>1514         </td><td>692          </td><td>1063         </td><td>1755         </td><td>202          </td><td> 924         </td><td>202          </td><td>50           </td><td>94           </td><td>12           </td><td> 8           </td><td>4602         </td></tr>\n",
       "</tbody>\n",
       "</table>\n"
      ],
      "text/latex": [
       "\\begin{tabular}{r|llllllllllllllllll}\n",
       " Rank & Player & Team & Pos & X1st.NHL.Season & Last.NHL.Season & GP & G & A & P & X... & PIM & PP & SH & GW & GT & OT & Shots\\\\\n",
       "\\hline\n",
       "\t 1             & Wayne Gretzky & NA            & C             & 1979-1980     & 1998-1999     & 1487          & 894           & 1963          & 2857          & 518           &  577          & 204           & 73            & 91            & 12            &  1            & 5089         \\\\\n",
       "\t 2             & Mark Messier  & NA            & C             & 1979-1980     & 2003-2004     & 1756          & 694           & 1193          & 1887          & 210           & 1910          & 179           & 63            & 92            & 15            &  7            & 4219         \\\\\n",
       "\t 3             & Gordie Howe   & NA            & R             & 1946-1947     & 1979-1980     & 1767          & 801           & 1049          & 1850          &  87           & 1685          &  39           &  5            & 18            & NA            & NA            &   NA         \\\\\n",
       "\t 4             & Ron Francis   & NA            & C             & 1981-1982     & 2003-2004     & 1731          & 549           & 1249          & 1798          & -10           &  979          & 188           & 12            & 79            & 13            &  3            & 3754         \\\\\n",
       "\t 5             & Marcel Dionne & NA            & C             & 1971-1972     & 1988-1989     & 1348          & 731           & 1040          & 1771          &  28           &  600          & 234           & 19            & 74            &  1            &  2            & 5366         \\\\\n",
       "\t 6             & Steve Yzerman & NA            & C             & 1983-1984     & 2005-2006     & 1514          & 692           & 1063          & 1755          & 202           &  924          & 202           & 50            & 94            & 12            &  8            & 4602         \\\\\n",
       "\\end{tabular}\n"
      ],
      "text/markdown": [
       "\n",
       "Rank | Player | Team | Pos | X1st.NHL.Season | Last.NHL.Season | GP | G | A | P | X... | PIM | PP | SH | GW | GT | OT | Shots | \n",
       "|---|---|---|---|---|---|\n",
       "| 1             | Wayne Gretzky | NA            | C             | 1979-1980     | 1998-1999     | 1487          | 894           | 1963          | 2857          | 518           |  577          | 204           | 73            | 91            | 12            |  1            | 5089          | \n",
       "| 2             | Mark Messier  | NA            | C             | 1979-1980     | 2003-2004     | 1756          | 694           | 1193          | 1887          | 210           | 1910          | 179           | 63            | 92            | 15            |  7            | 4219          | \n",
       "| 3             | Gordie Howe   | NA            | R             | 1946-1947     | 1979-1980     | 1767          | 801           | 1049          | 1850          |  87           | 1685          |  39           |  5            | 18            | NA            | NA            |   NA          | \n",
       "| 4             | Ron Francis   | NA            | C             | 1981-1982     | 2003-2004     | 1731          | 549           | 1249          | 1798          | -10           |  979          | 188           | 12            | 79            | 13            |  3            | 3754          | \n",
       "| 5             | Marcel Dionne | NA            | C             | 1971-1972     | 1988-1989     | 1348          | 731           | 1040          | 1771          |  28           |  600          | 234           | 19            | 74            |  1            |  2            | 5366          | \n",
       "| 6             | Steve Yzerman | NA            | C             | 1983-1984     | 2005-2006     | 1514          | 692           | 1063          | 1755          | 202           |  924          | 202           | 50            | 94            | 12            |  8            | 4602          | \n",
       "\n",
       "\n"
      ],
      "text/plain": [
       "  Rank Player        Team Pos X1st.NHL.Season Last.NHL.Season GP   G   A   \n",
       "1 1    Wayne Gretzky NA   C   1979-1980       1998-1999       1487 894 1963\n",
       "2 2    Mark Messier  NA   C   1979-1980       2003-2004       1756 694 1193\n",
       "3 3    Gordie Howe   NA   R   1946-1947       1979-1980       1767 801 1049\n",
       "4 4    Ron Francis   NA   C   1981-1982       2003-2004       1731 549 1249\n",
       "5 5    Marcel Dionne NA   C   1971-1972       1988-1989       1348 731 1040\n",
       "6 6    Steve Yzerman NA   C   1983-1984       2005-2006       1514 692 1063\n",
       "  P    X... PIM  PP  SH GW GT OT Shots\n",
       "1 2857 518   577 204 73 91 12  1 5089 \n",
       "2 1887 210  1910 179 63 92 15  7 4219 \n",
       "3 1850  87  1685  39  5 18 NA NA   NA \n",
       "4 1798 -10   979 188 12 79 13  3 3754 \n",
       "5 1771  28   600 234 19 74  1  2 5366 \n",
       "6 1755 202   924 202 50 94 12  8 4602 "
      ]
     },
     "metadata": {},
     "output_type": "display_data"
    }
   ],
   "source": [
    "NHLDataframe <- read.xlsx(\"NHLTop100.xlsx\", 1)\n",
    "head(NHLDataframe)"
   ]
  },
  {
   "cell_type": "markdown",
   "metadata": {},
   "source": [
    "Fetch data from xlsx file"
   ]
  },
  {
   "cell_type": "code",
   "execution_count": 67,
   "metadata": {
    "collapsed": true
   },
   "outputs": [],
   "source": [
    "outputDataFrame <- data.frame(Plot=character(), Rsquare=double(), Pval=double())\n",
    "newRow <- data.frame(Plot=character(), Rsquare=double(), Pval=double())"
   ]
  },
  {
   "cell_type": "markdown",
   "metadata": {},
   "source": [
    "Declare output dataframe"
   ]
  },
  {
   "cell_type": "code",
   "execution_count": 68,
   "metadata": {
    "collapsed": true
   },
   "outputs": [],
   "source": [
    "getSlope <- function(x, y, intercept){\n",
    "    return((y-intercept)/x)\n",
    "}"
   ]
  },
  {
   "cell_type": "markdown",
   "metadata": {},
   "source": [
    "Declaring a slope function to calculate the slope of the line based on its intercept"
   ]
  },
  {
   "cell_type": "code",
   "execution_count": 69,
   "metadata": {
    "collapsed": false
   },
   "outputs": [
    {
     "data": {
      "text/plain": [
       "\n",
       "Call:\n",
       "lm(formula = A ~ G, data = NHLDataframe)\n",
       "\n",
       "Residuals:\n",
       "    Min      1Q  Median      3Q     Max \n",
       "-356.51 -158.59  -10.29  125.08 1003.42 \n",
       "\n",
       "Coefficients:\n",
       "            Estimate Std. Error t value Pr(>|t|)    \n",
       "(Intercept) 494.5135    74.6410   6.625 1.88e-09 ***\n",
       "G             0.5202     0.1508   3.449 0.000832 ***\n",
       "---\n",
       "Signif. codes:  0 '***' 0.001 '**' 0.01 '*' 0.05 '.' 0.1 ' ' 1\n",
       "\n",
       "Residual standard error: 207 on 98 degrees of freedom\n",
       "Multiple R-squared:  0.1082,\tAdjusted R-squared:  0.09913 \n",
       "F-statistic: 11.89 on 1 and 98 DF,  p-value: 0.0008317\n"
      ]
     },
     "metadata": {},
     "output_type": "display_data"
    },
    {
     "data": {
      "image/png": "[encoded data removed]",
      "text/plain": [
       "Plot with title \"NHL Top 100 Players Stats\""
      ]
     },
     "metadata": {},
     "output_type": "display_data"
    }
   ],
   "source": [
    "plot(NHLDataframe$A~NHLDataframe$G, main = \"NHL Top 100 Players Stats\", xlab = \"Goals\", ylab = \"Assists\", pch=19)\n",
    "linear_model <- lm(A ~ G, data=NHLDataframe)\n",
    "summary(linear_model)\n",
    "abline(linear_model, col=\"red\")\n",
    "outputDataFrame <- rbind(outputDataFrame, data.frame(Plot=\"Basic LM\", Rsquare=0.09913, Pval=0.0008317))"
   ]
  },
  {
   "cell_type": "markdown",
   "metadata": {},
   "source": [
    "This is plot for the basic linear model derived from the data points.\n",
    "The line passes through the intercept which is the point of intersection of the Y axix with the plotted line. \n",
    "Value of R and P is appended to the final output data frame."
   ]
  },
  {
   "cell_type": "code",
   "execution_count": 70,
   "metadata": {
    "collapsed": false
   },
   "outputs": [
    {
     "data": {
      "text/plain": [
       "\n",
       "Call:\n",
       "lm(formula = I(A - 1963) ~ I(G - 894) + 0, data = NHLDataframe)\n",
       "\n",
       "Residuals:\n",
       "   Min     1Q Median     3Q    Max \n",
       "-902.2 -333.4 -145.4  103.3  703.4 \n",
       "\n",
       "Coefficients:\n",
       "           Estimate Std. Error t value Pr(>|t|)    \n",
       "I(G - 894)   2.6847     0.0853   31.48   <2e-16 ***\n",
       "---\n",
       "Signif. codes:  0 '***' 0.001 '**' 0.01 '*' 0.05 '.' 0.1 ' ' 1\n",
       "\n",
       "Residual standard error: 375.7 on 99 degrees of freedom\n",
       "Multiple R-squared:  0.9091,\tAdjusted R-squared:  0.9082 \n",
       "F-statistic: 990.7 on 1 and 99 DF,  p-value: < 2.2e-16\n"
      ]
     },
     "metadata": {},
     "output_type": "display_data"
    },
    {
     "data": {
      "image/png": "[encoded data removed]",
      "text/plain": [
       "Plot with title \"NHL Top 100 Players Stats\""
      ]
     },
     "metadata": {},
     "output_type": "display_data"
    }
   ],
   "source": [
    "plot(NHLDataframe$A~NHLDataframe$G, main = \"NHL Top 100 Players Stats\", xlab = \"Goals\", ylab = \"Assists\", pch=19, ylim=c(0,2000), xlim=c(0,1000))\n",
    "nmod <- (lm(I(A-1963) ~ I(G-894) + 0, NHLDataframe))\n",
    "summary(lm(I(A-1963) ~ I(G-894) + 0, NHLDataframe))\n",
    "abline(predict(nmod, newdata = list(G=0))+1963, coef(nmod), col='green')\n",
    "outputDataFrame <- rbind(outputDataFrame, data.frame(Plot=\"Wayne LM without Intercept\", Rsquare=0.9082, Pval=2.2e-16))"
   ]
  },
  {
   "cell_type": "markdown",
   "metadata": {},
   "source": [
    "This plot has been created by forcing the linear model through the point plotted for Player Wayne Gretzky.\n",
    "Here the plot is not restricted by the intercept(by adding +0 to the lm model) and thus provides a good linear model which passes to the specified point."
   ]
  },
  {
   "cell_type": "code",
   "execution_count": 71,
   "metadata": {
    "collapsed": false
   },
   "outputs": [
    {
     "data": {
      "text/plain": [
       "\n",
       "Call:\n",
       "lm(formula = I(A - 1963) ~ I(G - 894), data = NHLDataframe)\n",
       "\n",
       "Residuals:\n",
       "    Min      1Q  Median      3Q     Max \n",
       "-356.51 -158.59  -10.29  125.08 1003.42 \n",
       "\n",
       "Coefficients:\n",
       "              Estimate Std. Error t value Pr(>|t|)    \n",
       "(Intercept) -1003.4220    66.4463 -15.101  < 2e-16 ***\n",
       "I(G - 894)      0.5202     0.1508   3.449 0.000832 ***\n",
       "---\n",
       "Signif. codes:  0 '***' 0.001 '**' 0.01 '*' 0.05 '.' 0.1 ' ' 1\n",
       "\n",
       "Residual standard error: 207 on 98 degrees of freedom\n",
       "Multiple R-squared:  0.1082,\tAdjusted R-squared:  0.09913 \n",
       "F-statistic: 11.89 on 1 and 98 DF,  p-value: 0.0008317\n"
      ]
     },
     "metadata": {},
     "output_type": "display_data"
    },
    {
     "data": {
      "image/png": "[encoded data removed]",
      "text/plain": [
       "Plot with title \"NHL Top 100 Players Stats\""
      ]
     },
     "metadata": {},
     "output_type": "display_data"
    }
   ],
   "source": [
    "plot(NHLDataframe$A~NHLDataframe$G, main = \"NHL Top 100 Players Stats\", xlab = \"Goals\", ylab = \"Assists\", pch=19, ylim=c(0,2000), xlim=c(0,1000))\n",
    "linear_model <- (lm(I(A-1963) ~ I(G-894), NHLDataframe))\n",
    "summary(lm(I(A-1963) ~ I(G-894), NHLDataframe))\n",
    "slope <- getSlope(894, 1963, coef(linear_model)[1])\n",
    "abline(a=coef(linear_model),b=slope, col='blue')\n",
    "outputDataFrame <- rbind(outputDataFrame, data.frame(Plot=\"Wayne LM with Intercept\", Rsquare=0.09913, Pval=0.0008317))"
   ]
  },
  {
   "cell_type": "markdown",
   "metadata": {},
   "source": [
    "Here the lm model has been forced to pass through the point plotted for Wayne Gretzky by keeping the intercept restriction."
   ]
  },
  {
   "cell_type": "code",
   "execution_count": 72,
   "metadata": {
    "collapsed": false
   },
   "outputs": [],
   "source": [
    "newRow <- data.frame(101,\"Patrick Kane\",\"CHI\",\"R\",\"2007-2008\",\"2016-2017\",736,285,465,750,83,284,251,1,49,3,3,2294)\n",
    "names(newRow) <- c(\"Rank\",\"Player\",\"Team\",\"Pos\",\"X1st.NHL.Season\",\"Last.NHL.Season\",\"GP\",\"G\",\"A\",\"P\",\"X...\",\"PIM\",\"PP\",\"SH\",\"GW\",\"GT\",\"OT\",\"Shots\"\n",
    ")\n",
    "updatedNHLDataframe <- rbind(NHLDataframe,newRow)"
   ]
  },
  {
   "cell_type": "markdown",
   "metadata": {},
   "source": [
    "Adding a new record for Patrick Kane"
   ]
  },
  {
   "cell_type": "code",
   "execution_count": 73,
   "metadata": {
    "collapsed": false
   },
   "outputs": [
    {
     "data": {
      "text/plain": [
       "\n",
       "Call:\n",
       "lm(formula = I(A - 465) ~ I(G - 285) + 0, data = updatedNHLDataframe)\n",
       "\n",
       "Residuals:\n",
       "    Min      1Q  Median      3Q     Max \n",
       "-337.85 -114.55   40.53  165.99  807.05 \n",
       "\n",
       "Coefficients:\n",
       "           Estimate Std. Error t value Pr(>|t|)    \n",
       "I(G - 285)   1.1346     0.0979   11.59   <2e-16 ***\n",
       "---\n",
       "Signif. codes:  0 '***' 0.001 '**' 0.01 '*' 0.05 '.' 0.1 ' ' 1\n",
       "\n",
       "Residual standard error: 229.8 on 100 degrees of freedom\n",
       "Multiple R-squared:  0.5732,\tAdjusted R-squared:  0.5689 \n",
       "F-statistic: 134.3 on 1 and 100 DF,  p-value: < 2.2e-16\n"
      ]
     },
     "metadata": {},
     "output_type": "display_data"
    },
    {
     "data": {
      "image/png": "[encoded data removed]",
      "text/plain": [
       "Plot with title \"NHL Top 100 Players Stats\""
      ]
     },
     "metadata": {},
     "output_type": "display_data"
    }
   ],
   "source": [
    "plot(updatedNHLDataframe$A~updatedNHLDataframe$G, main = \"NHL Top 100 Players Stats\", xlab = \"Goals\", ylab = \"Assists\", pch=19, ylim=c(0,2000), xlim=c(0,1000))\n",
    "linear_model <- lm(I(A-465) ~ I(G-285)+0, updatedNHLDataframe)\n",
    "summary(linear_model)\n",
    "nmod <- (linear_model)\n",
    "abline(predict(nmod, newdata = list(G=0))+465, coef(nmod), col='green')\n",
    "outputDataFrame <- rbind(outputDataFrame, data.frame(Plot=\"Patrick LM without Intercept\", Rsquare=0.5689, Pval=2.2e-16))"
   ]
  },
  {
   "cell_type": "markdown",
   "metadata": {},
   "source": [
    "This plot has been created by forcing the linear model through the point plotted for Player Patrick Kane.\n",
    "Here the plot is not restricted by the intercept(by adding +0 to the lm model) and thus provides a good linear model which passes to the specified point."
   ]
  },
  {
   "cell_type": "code",
   "execution_count": 74,
   "metadata": {
    "collapsed": false
   },
   "outputs": [
    {
     "data": {
      "text/plain": [
       "\n",
       "Call:\n",
       "lm(formula = I(A - 465) ~ I(G - 285), data = updatedNHLDataframe)\n",
       "\n",
       "Residuals:\n",
       "    Min      1Q  Median      3Q     Max \n",
       "-355.98 -172.72   -8.94  126.20  997.84 \n",
       "\n",
       "Coefficients:\n",
       "            Estimate Std. Error t value Pr(>|t|)    \n",
       "(Intercept) 172.7210    34.8505   4.956 2.97e-06 ***\n",
       "I(G - 285)    0.5377     0.1492   3.603 0.000493 ***\n",
       "---\n",
       "Signif. codes:  0 '***' 0.001 '**' 0.01 '*' 0.05 '.' 0.1 ' ' 1\n",
       "\n",
       "Residual standard error: 206.7 on 99 degrees of freedom\n",
       "Multiple R-squared:  0.116,\tAdjusted R-squared:  0.107 \n",
       "F-statistic: 12.98 on 1 and 99 DF,  p-value: 0.0004934\n"
      ]
     },
     "metadata": {},
     "output_type": "display_data"
    },
    {
     "data": {
      "image/png": "[encoded data removed]",
      "text/plain": [
       "Plot with title \"NHL Top 100 Players Stats\""
      ]
     },
     "metadata": {},
     "output_type": "display_data"
    }
   ],
   "source": [
    "plot(updatedNHLDataframe$A~updatedNHLDataframe$G, main = \"NHL Top 100 Players Stats\", xlab = \"Goals\", ylab = \"Assists\", pch=19, ylim=c(0,2000), xlim=c(0,1000))\n",
    "linear_model <- (lm(I(A-465) ~ I(G-285), updatedNHLDataframe))\n",
    "summary(linear_model)\n",
    "slope <- getSlope(285, 465, coef(linear_model)[1])\n",
    "abline(a=coef(linear_model),b=slope, col='blue')\n",
    "outputDataFrame <- rbind(outputDataFrame, data.frame(Plot=\"Patrick LM with Intercept\", Rsquare=0.107, Pval=0.0004934))"
   ]
  },
  {
   "cell_type": "markdown",
   "metadata": {},
   "source": [
    "Here the lm model has been forced to pass through the point plotted for Patrick Kane by keeping the intercept restriction."
   ]
  },
  {
   "cell_type": "code",
   "execution_count": 75,
   "metadata": {
    "collapsed": false
   },
   "outputs": [
    {
     "data": {
      "text/plain": [
       "\n",
       "Call:\n",
       "lm(formula = I(A - 0) ~ I(G - 0) + 0, data = NHLDataframe)\n",
       "\n",
       "Residuals:\n",
       "    Min      1Q  Median      3Q     Max \n",
       "-446.93 -137.40    1.88  159.73  639.58 \n",
       "\n",
       "Coefficients:\n",
       "         Estimate Std. Error t value Pr(>|t|)    \n",
       "I(G - 0)  1.48033    0.05009   29.55   <2e-16 ***\n",
       "---\n",
       "Signif. codes:  0 '***' 0.001 '**' 0.01 '*' 0.05 '.' 0.1 ' ' 1\n",
       "\n",
       "Residual standard error: 247.9 on 99 degrees of freedom\n",
       "Multiple R-squared:  0.8982,\tAdjusted R-squared:  0.8972 \n",
       "F-statistic: 873.4 on 1 and 99 DF,  p-value: < 2.2e-16\n"
      ]
     },
     "metadata": {},
     "output_type": "display_data"
    },
    {
     "data": {
      "text/plain": [
       "\n",
       "Call:\n",
       "lm(formula = I(A - 1963) ~ I(G - 894) + 0, data = NHLDataframe)\n",
       "\n",
       "Residuals:\n",
       "   Min     1Q Median     3Q    Max \n",
       "-902.2 -333.4 -145.4  103.3  703.4 \n",
       "\n",
       "Coefficients:\n",
       "           Estimate Std. Error t value Pr(>|t|)    \n",
       "I(G - 894)   2.6847     0.0853   31.48   <2e-16 ***\n",
       "---\n",
       "Signif. codes:  0 '***' 0.001 '**' 0.01 '*' 0.05 '.' 0.1 ' ' 1\n",
       "\n",
       "Residual standard error: 375.7 on 99 degrees of freedom\n",
       "Multiple R-squared:  0.9091,\tAdjusted R-squared:  0.9082 \n",
       "F-statistic: 990.7 on 1 and 99 DF,  p-value: < 2.2e-16\n"
      ]
     },
     "metadata": {},
     "output_type": "display_data"
    },
    {
     "data": {
      "text/plain": [
       "\n",
       "Call:\n",
       "lm(formula = I(A - 465) ~ I(G - 285) + 0, data = NHLDataframe)\n",
       "\n",
       "Residuals:\n",
       "    Min      1Q  Median      3Q     Max \n",
       "-337.85 -115.74   40.97  167.13  807.05 \n",
       "\n",
       "Coefficients:\n",
       "           Estimate Std. Error t value Pr(>|t|)    \n",
       "I(G - 285)   1.1346     0.0984   11.53   <2e-16 ***\n",
       "---\n",
       "Signif. codes:  0 '***' 0.001 '**' 0.01 '*' 0.05 '.' 0.1 ' ' 1\n",
       "\n",
       "Residual standard error: 231 on 99 degrees of freedom\n",
       "Multiple R-squared:  0.5732,\tAdjusted R-squared:  0.5689 \n",
       "F-statistic: 132.9 on 1 and 99 DF,  p-value: < 2.2e-16\n"
      ]
     },
     "metadata": {},
     "output_type": "display_data"
    },
    {
     "data": {
      "image/png": "[encoded data removed]",
      "text/plain": [
       "Plot with title \"NHL Top 100 Players Stats\""
      ]
     },
     "metadata": {},
     "output_type": "display_data"
    }
   ],
   "source": [
    "plot(NHLDataframe$A~NHLDataframe$G, main = \"NHL Top 100 Players Stats\", xlab = \"Goals\", ylab = \"Assists\", pch=19, ylim=c(0,2000), xlim=c(0,1000))\n",
    "normalLM <- (lm(I(A-0) ~ I(G-0) + 0, NHLDataframe))\n",
    "summary(normalLM)\n",
    "abline(predict(normalLM, newdata = list(G=0))+0, coef(normalLM), col='grey')\n",
    "outputDataFrame <- rbind(outputDataFrame, data.frame(Plot=\"Normal Passing Origin\", Rsquare=0.8972 , Pval=2.2e-16))\n",
    "WayneLM <- (lm(I(A-1963) ~ I(G-894) + 0, NHLDataframe))\n",
    "summary(WayneLM)\n",
    "abline(a=0,b=1963/894,col=\"red\")\n",
    "outputDataFrame <- rbind(outputDataFrame, data.frame(Plot=\"Wayne LM Passing Origin\", Rsquare=0.9082, Pval=2.2e-16))\n",
    "PatrickLM <- (lm(I(A-465) ~ I(G-285) + 0, NHLDataframe))\n",
    "summary(PatrickLM)\n",
    "abline(a=0,b=465/285,col=\"green\")\n",
    "outputDataFrame <- rbind(outputDataFrame, data.frame(Plot=\"Patrick LM Passing Origin\", Rsquare=0.5689, Pval=2.2e-16))"
   ]
  },
  {
   "cell_type": "markdown",
   "metadata": {},
   "source": [
    "In this line all the three models plotted are forced to pass through the origin and their values are added to the output."
   ]
  },
  {
   "cell_type": "code",
   "execution_count": 76,
   "metadata": {
    "collapsed": false
   },
   "outputs": [
    {
     "data": {
      "text/html": [
       "<table>\n",
       "<thead><tr><th scope=col>Plot</th><th scope=col>Rsquare</th><th scope=col>Pval</th></tr></thead>\n",
       "<tbody>\n",
       "\t<tr><td>Basic LM                    </td><td>0.09913                     </td><td>8.317e-04                   </td></tr>\n",
       "\t<tr><td>Wayne LM without Intercept  </td><td>0.90820                     </td><td>2.200e-16                   </td></tr>\n",
       "\t<tr><td>Wayne LM with Intercept     </td><td>0.09913                     </td><td>8.317e-04                   </td></tr>\n",
       "\t<tr><td>Patrick LM without Intercept</td><td>0.56890                     </td><td>2.200e-16                   </td></tr>\n",
       "\t<tr><td>Patrick LM with Intercept   </td><td>0.10700                     </td><td>4.934e-04                   </td></tr>\n",
       "\t<tr><td>Normal Passing Origin       </td><td>0.89720                     </td><td>2.200e-16                   </td></tr>\n",
       "\t<tr><td>Wayne LM Passing Origin     </td><td>0.90820                     </td><td>2.200e-16                   </td></tr>\n",
       "\t<tr><td>Patrick LM Passing Origin   </td><td>0.56890                     </td><td>2.200e-16                   </td></tr>\n",
       "</tbody>\n",
       "</table>\n"
      ],
      "text/latex": [
       "\\begin{tabular}{r|lll}\n",
       " Plot & Rsquare & Pval\\\\\n",
       "\\hline\n",
       "\t Basic LM                     & 0.09913                      & 8.317e-04                   \\\\\n",
       "\t Wayne LM without Intercept   & 0.90820                      & 2.200e-16                   \\\\\n",
       "\t Wayne LM with Intercept      & 0.09913                      & 8.317e-04                   \\\\\n",
       "\t Patrick LM without Intercept & 0.56890                      & 2.200e-16                   \\\\\n",
       "\t Patrick LM with Intercept    & 0.10700                      & 4.934e-04                   \\\\\n",
       "\t Normal Passing Origin        & 0.89720                      & 2.200e-16                   \\\\\n",
       "\t Wayne LM Passing Origin      & 0.90820                      & 2.200e-16                   \\\\\n",
       "\t Patrick LM Passing Origin    & 0.56890                      & 2.200e-16                   \\\\\n",
       "\\end{tabular}\n"
      ],
      "text/markdown": [
       "\n",
       "Plot | Rsquare | Pval | \n",
       "|---|---|---|---|---|---|---|---|\n",
       "| Basic LM                     | 0.09913                      | 8.317e-04                    | \n",
       "| Wayne LM without Intercept   | 0.90820                      | 2.200e-16                    | \n",
       "| Wayne LM with Intercept      | 0.09913                      | 8.317e-04                    | \n",
       "| Patrick LM without Intercept | 0.56890                      | 2.200e-16                    | \n",
       "| Patrick LM with Intercept    | 0.10700                      | 4.934e-04                    | \n",
       "| Normal Passing Origin        | 0.89720                      | 2.200e-16                    | \n",
       "| Wayne LM Passing Origin      | 0.90820                      | 2.200e-16                    | \n",
       "| Patrick LM Passing Origin    | 0.56890                      | 2.200e-16                    | \n",
       "\n",
       "\n"
      ],
      "text/plain": [
       "  Plot                         Rsquare Pval     \n",
       "1 Basic LM                     0.09913 8.317e-04\n",
       "2 Wayne LM without Intercept   0.90820 2.200e-16\n",
       "3 Wayne LM with Intercept      0.09913 8.317e-04\n",
       "4 Patrick LM without Intercept 0.56890 2.200e-16\n",
       "5 Patrick LM with Intercept    0.10700 4.934e-04\n",
       "6 Normal Passing Origin        0.89720 2.200e-16\n",
       "7 Wayne LM Passing Origin      0.90820 2.200e-16\n",
       "8 Patrick LM Passing Origin    0.56890 2.200e-16"
      ]
     },
     "metadata": {},
     "output_type": "display_data"
    }
   ],
   "source": [
    "outputDataFrame"
   ]
  },
  {
   "cell_type": "markdown",
   "metadata": {},
   "source": [
    "Summary:\n",
    "With the multiple graphs plotted for the same data set with the the deviations we can see that the value of R square and P value is changing. "
   ]
  },
  {
   "cell_type": "code",
   "execution_count": null,
   "metadata": {
    "collapsed": true
   },
   "outputs": [],
   "source": [
    "References:\n",
    "http://www.cse.buffalo.edu/~bina/cse487/spring2017/Lectures/classnotes.html#Part1"
   ]
  }
 ],
 "metadata": {
  "kernelspec": {
   "display_name": "R",
   "language": "R",
   "name": "ir"
  },
  "language_info": {
   "codemirror_mode": "r",
   "file_extension": ".r",
   "mimetype": "text/x-r-source",
   "name": "R",
   "pygments_lexer": "r",
   "version": "3.3.2"
  }
 },
 "nbformat": 4,
 "nbformat_minor": 2
}
